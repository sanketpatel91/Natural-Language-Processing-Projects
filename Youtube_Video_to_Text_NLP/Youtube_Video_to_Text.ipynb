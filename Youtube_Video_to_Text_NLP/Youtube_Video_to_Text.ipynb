{
 "cells": [
  {
   "cell_type": "code",
   "execution_count": 4,
   "id": "ea5888e1",
   "metadata": {
    "ExecuteTime": {
     "end_time": "2023-08-15T09:08:25.837973Z",
     "start_time": "2023-08-15T09:08:22.198684Z"
    }
   },
   "outputs": [],
   "source": [
    "!pip install pytube --quiet\n",
    "!pip install SpeechRecognition --quiet\n",
    "!pip install moviepy --quiet\n",
    "!pip install pydub --quiet"
   ]
  },
  {
   "cell_type": "code",
   "execution_count": 5,
   "id": "0c429321",
   "metadata": {
    "ExecuteTime": {
     "end_time": "2023-08-15T09:08:27.236179Z",
     "start_time": "2023-08-15T09:08:25.879878Z"
    }
   },
   "outputs": [],
   "source": [
    "from pytube import YouTube\n",
    "import moviepy.editor as mp\n",
    "from pydub import AudioSegment\n",
    "from pydub.silence import split_on_silence\n",
    "import wave\n",
    "import speech_recognition as sr\n",
    "from pydub import AudioSegment\n",
    "import os"
   ]
  },
  {
   "cell_type": "code",
   "execution_count": 6,
   "id": "aa23d9f5",
   "metadata": {
    "ExecuteTime": {
     "end_time": "2023-08-15T09:08:27.280521Z",
     "start_time": "2023-08-15T09:08:27.272059Z"
    }
   },
   "outputs": [],
   "source": [
    "url = 'https://www.youtube.com/watch?v=YliqNFAsVu8'"
   ]
  },
  {
   "cell_type": "code",
   "execution_count": 7,
   "id": "f4d637bc",
   "metadata": {
    "ExecuteTime": {
     "end_time": "2023-08-15T09:11:03.141109Z",
     "start_time": "2023-08-15T09:08:27.300072Z"
    }
   },
   "outputs": [
    {
     "name": "stdout",
     "output_type": "stream",
     "text": [
      "MoviePy - Writing audio in C:\\Users\\ONGC\\OneDrive\\Sanket\\github\\Natural-Language-Processing-Projects\\NLP_on_Youtube_Video\\PM Modi Full Speech on Independence Day 2023 from Red Fort  PM Modi full speech today.wav\n"
     ]
    },
    {
     "name": "stderr",
     "output_type": "stream",
     "text": [
      "                                                                                                                       \r"
     ]
    },
    {
     "name": "stdout",
     "output_type": "stream",
     "text": [
      "MoviePy - Done.\n",
      "Audio downloaded in WAV format!\n"
     ]
    }
   ],
   "source": [
    "video = YouTube(url)\n",
    "audio_stream = video.streams.filter(only_audio=True).first()\n",
    "audio_file = audio_stream.download()\n",
    "\n",
    "clip = mp.AudioFileClip(audio_file)\n",
    "clip.write_audiofile(audio_file[:-3] + \"wav\")\n",
    "\n",
    "# Delete the original audio file\n",
    "os.remove(audio_file)\n",
    "print(\"Audio downloaded in WAV format!\")"
   ]
  },
  {
   "cell_type": "code",
   "execution_count": 9,
   "id": "6005b744",
   "metadata": {
    "ExecuteTime": {
     "end_time": "2023-08-15T09:11:03.335761Z",
     "start_time": "2023-08-15T09:11:03.304306Z"
    }
   },
   "outputs": [],
   "source": [
    "file_path = '\\\\'.join(audio_file.split('\\\\')[:-1]) + '\\\\' +audio_file.split('\\\\')[-1].split('.')[0] + '.wav'"
   ]
  },
  {
   "cell_type": "code",
   "execution_count": 10,
   "id": "604adce0",
   "metadata": {
    "ExecuteTime": {
     "end_time": "2023-08-15T09:11:03.443116Z",
     "start_time": "2023-08-15T09:11:03.391266Z"
    }
   },
   "outputs": [
    {
     "name": "stdout",
     "output_type": "stream",
     "text": [
      "Duration of the audio file is 89.97 min\n",
      "Size of the audio file is : 908.126 MB\n"
     ]
    }
   ],
   "source": [
    "with wave.open(file_path, 'r') as wav_file:\n",
    "    frames = wav_file.getnframes()\n",
    "    rate = wav_file.getframerate()\n",
    "    duration = (frames / float(rate))/60\n",
    "    print(\"Duration of the audio file is {:.2f} min\".format(duration))\n",
    "print(\"Size of the audio file is : \" + str(round((os.path.getsize(file_path)/1024)/1024,3)) + \" MB\")"
   ]
  },
  {
   "cell_type": "code",
   "execution_count": null,
   "id": "6583c462",
   "metadata": {
    "ExecuteTime": {
     "end_time": "2023-08-15T10:23:33.320965Z",
     "start_time": "2023-08-15T09:39:52.149191Z"
    }
   },
   "outputs": [],
   "source": [
    "speech = AudioSegment.from_wav(file_path)\n",
    "\n",
    "# Split the audio file into 10-second chunks\n",
    "chunk_length_ms = 30000\n",
    "chunks = []\n",
    "for i in range(0, len(speech), chunk_length_ms):\n",
    "    chunks.append(speech[i:i+chunk_length_ms])\n",
    "\n",
    "fh = open(\"recognized.txt\", \"w+\",encoding=\"utf-8\")   \n",
    "for i, chunk in enumerate(chunks):\n",
    "    filename = 'chunk'+str(i)+'.wav'\n",
    "    chunk.export(filename, format=\"wav\")\n",
    "    file = filename\n",
    "    r = sr.Recognizer()\n",
    "    with sr.AudioFile(file) as source:\n",
    "        audio_listened = r.record(source)\n",
    "    rec = r.recognize_google(audio_listened,language='hi-IN')\n",
    "#     print(rec)\n",
    "    fh.write(rec+ \". \")\n",
    "    os.remove(filename)\n",
    "fh.close()"
   ]
  },
  {
   "cell_type": "code",
   "execution_count": 19,
   "id": "2728dc71",
   "metadata": {
    "ExecuteTime": {
     "end_time": "2023-08-15T12:17:43.131619Z",
     "start_time": "2023-08-15T12:17:43.100697Z"
    }
   },
   "outputs": [
    {
     "name": "stdout",
     "output_type": "stream",
     "text": [
      "Text Extraction from Video is Completed\n"
     ]
    }
   ],
   "source": [
    "fh.close()\n",
    "print(\"Text Extraction from Video is Completed\")"
   ]
  },
  {
   "cell_type": "code",
   "execution_count": 20,
   "id": "b1dc1deb",
   "metadata": {
    "ExecuteTime": {
     "end_time": "2023-08-15T12:17:47.764495Z",
     "start_time": "2023-08-15T12:17:47.746972Z"
    }
   },
   "outputs": [],
   "source": [
    "with open('recognized.txt', 'r',encoding='UTF-8') as file:\n",
    "    # Read the entire contents of the file\n",
    "    text = file.read()"
   ]
  },
  {
   "cell_type": "code",
   "execution_count": null,
   "id": "a1ca7562",
   "metadata": {
    "ExecuteTime": {
     "end_time": "2023-08-15T12:17:48.846677Z",
     "start_time": "2023-08-15T12:17:48.700135Z"
    }
   },
   "outputs": [],
   "source": [
    "import nltk\n",
    "from nltk.corpus import indian\n",
    "from nltk.tokenize import word_tokenize\n",
    "from nltk.probability import FreqDist\n",
    "from nltk.corpus import stopwords\n",
    "\n",
    "# Load Hindi text corpus\n",
    "hindi_text = indian.words(text)\n",
    "\n",
    "# Tokenize the text\n",
    "tokens = word_tokenize(' '.join(hindi_text))\n",
    "\n",
    "# Remove stopwords\n",
    "stop_words = set(stopwords.words('hindi'))\n",
    "filtered_tokens = [token for token in tokens if token.lower() not in stop_words]\n",
    "\n",
    "# Calculate word frequency distribution\n",
    "fdist = FreqDist(filtered_tokens)\n",
    "\n",
    "# Print 10 most common words\n",
    "print(fdist.most_common(10))"
   ]
  },
  {
   "cell_type": "code",
   "execution_count": null,
   "id": "8e66578d",
   "metadata": {},
   "outputs": [],
   "source": []
  }
 ],
 "metadata": {
  "kernelspec": {
   "display_name": "Python [conda env:py39] *",
   "language": "python",
   "name": "conda-env-py39-py"
  },
  "language_info": {
   "codemirror_mode": {
    "name": "ipython",
    "version": 3
   },
   "file_extension": ".py",
   "mimetype": "text/x-python",
   "name": "python",
   "nbconvert_exporter": "python",
   "pygments_lexer": "ipython3",
   "version": "3.9.16"
  },
  "toc": {
   "base_numbering": 1,
   "nav_menu": {},
   "number_sections": true,
   "sideBar": true,
   "skip_h1_title": false,
   "title_cell": "Table of Contents",
   "title_sidebar": "Contents",
   "toc_cell": false,
   "toc_position": {},
   "toc_section_display": true,
   "toc_window_display": false
  },
  "varInspector": {
   "cols": {
    "lenName": 16,
    "lenType": 16,
    "lenVar": 40
   },
   "kernels_config": {
    "python": {
     "delete_cmd_postfix": "",
     "delete_cmd_prefix": "del ",
     "library": "var_list.py",
     "varRefreshCmd": "print(var_dic_list())"
    },
    "r": {
     "delete_cmd_postfix": ") ",
     "delete_cmd_prefix": "rm(",
     "library": "var_list.r",
     "varRefreshCmd": "cat(var_dic_list()) "
    }
   },
   "types_to_exclude": [
    "module",
    "function",
    "builtin_function_or_method",
    "instance",
    "_Feature"
   ],
   "window_display": false
  }
 },
 "nbformat": 4,
 "nbformat_minor": 5
}
