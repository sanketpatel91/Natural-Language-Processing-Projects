{
 "cells": [
  {
   "cell_type": "markdown",
   "metadata": {
    "id": "8Gf0u3uzd7oM"
   },
   "source": [
    "# Assignment - Sentiment Analysis of Movie Reviews\n",
    "\n",
    "![](https://i.imgur.com/6Wfmf2S.png)\n",
    "\n",
    "> **Problem Statement**: Apply the TF-IDF technique to train ML models for sentiment analysis using data from the \"[Sentiment Analysis on Movie Reviews](https://www.kaggle.com/c/sentiment-analysis-on-movie-reviews)\" Kaggle competition.\n",
    "\n",
    "\n",
    "Outline:\n",
    "\n",
    "1. Download and Explore Dataset\n",
    "2. Implement the TF-IDF Technique\n",
    "3. Train baseline model & submit to Kaggle\n",
    "4. Train & finetune different ML models\n",
    "3. Document & submit your notebook\n",
    "\n",
    "\n",
    "Dataset: https://www.kaggle.com/c/sentiment-analysis-on-movie-reviews\n"
   ]
  },
  {
   "cell_type": "markdown",
   "metadata": {
    "id": "hw0pygCOefi9"
   },
   "source": [
    "## Download and Explore the Data\n",
    "\n",
    "Outline:\n",
    "\n",
    "1. Download Dataset from Kaggle\n",
    "2. Explore and visualize data"
   ]
  },
  {
   "cell_type": "markdown",
   "metadata": {
    "id": "KPS8buEdtllZ"
   },
   "source": [
    "### Download Dataset from Kaggle\n",
    "\n",
    "- Read the \"Description\", \"Evaluation\" and \"Data\" sections on the Kaggle competition page carefully\n",
    "- Make sure to download the `kaggle.json` file from your [Kaggle account](https://kaggle.com/me/account) and upload it on Colab"
   ]
  },
  {
   "cell_type": "code",
   "execution_count": 9,
   "metadata": {
    "executionInfo": {
     "elapsed": 6248,
     "status": "ok",
     "timestamp": 1668785264818,
     "user": {
      "displayName": "Sanket Patel",
      "userId": "04819273699461657041"
     },
     "user_tz": -330
    },
    "id": "5DM-boqwbG6m"
   },
   "outputs": [],
   "source": [
    "!pip install opendatasets --quiet\n",
    "!pip install pandas --quiet"
   ]
  },
  {
   "cell_type": "code",
   "execution_count": 10,
   "metadata": {
    "colab": {
     "base_uri": "https://localhost:8080/"
    },
    "executionInfo": {
     "elapsed": 30703,
     "status": "ok",
     "timestamp": 1668785323019,
     "user": {
      "displayName": "Sanket Patel",
      "userId": "04819273699461657041"
     },
     "user_tz": -330
    },
    "id": "Bb9o3orNeyWv",
    "outputId": "30b7e903-56f1-41bf-c74a-f71bc792809e"
   },
   "outputs": [
    {
     "name": "stdout",
     "output_type": "stream",
     "text": [
      "Please provide your Kaggle credentials to download this dataset. Learn more: http://bit.ly/kaggle-creds\n",
      "Your Kaggle username: \n",
      "Your Kaggle username: sanketec87\n",
      "Your Kaggle Key: ··········\n",
      "Downloading sentiment-analysis-on-movie-reviews.zip to ./sentiment-analysis-on-movie-reviews\n"
     ]
    },
    {
     "name": "stderr",
     "output_type": "stream",
     "text": [
      "100%|██████████| 1.90M/1.90M [00:00<00:00, 142MB/s]"
     ]
    },
    {
     "name": "stdout",
     "output_type": "stream",
     "text": [
      "\n",
      "Extracting archive ./sentiment-analysis-on-movie-reviews/sentiment-analysis-on-movie-reviews.zip to ./sentiment-analysis-on-movie-reviews\n"
     ]
    },
    {
     "name": "stderr",
     "output_type": "stream",
     "text": [
      "\n"
     ]
    }
   ],
   "source": [
    "import opendatasets as od\n",
    "od.download(\"https://www.kaggle.com/c/sentiment-analysis-on-movie-reviews\")"
   ]
  },
  {
   "cell_type": "code",
   "execution_count": 11,
   "metadata": {
    "executionInfo": {
     "elapsed": 4,
     "status": "ok",
     "timestamp": 1668785323020,
     "user": {
      "displayName": "Sanket Patel",
      "userId": "04819273699461657041"
     },
     "user_tz": -330
    },
    "id": "lcRhDakmuxEm"
   },
   "outputs": [],
   "source": [
    "import zipfile\n",
    "\n",
    "with zipfile.ZipFile(\"/content/sentiment-analysis-on-movie-reviews/train.tsv.zip\", 'r') as zip_ref:\n",
    "   zip_ref.extractall(\"/content/sentiment-analysis-movie-review\")"
   ]
  },
  {
   "cell_type": "code",
   "execution_count": 12,
   "metadata": {
    "executionInfo": {
     "elapsed": 1019,
     "status": "ok",
     "timestamp": 1668785332010,
     "user": {
      "displayName": "Sanket Patel",
      "userId": "04819273699461657041"
     },
     "user_tz": -330
    },
    "id": "MdQqvmtvend_"
   },
   "outputs": [],
   "source": [
    "with zipfile.ZipFile(\"/content/sentiment-analysis-on-movie-reviews/test.tsv.zip\", 'r') as zip_ref:\n",
    "   zip_ref.extractall(\"/content/sentiment-analysis-movie-review\")"
   ]
  },
  {
   "cell_type": "code",
   "execution_count": 13,
   "metadata": {
    "executionInfo": {
     "elapsed": 2,
     "status": "ok",
     "timestamp": 1668785334518,
     "user": {
      "displayName": "Sanket Patel",
      "userId": "04819273699461657041"
     },
     "user_tz": -330
    },
    "id": "nEFLvfunenbr"
   },
   "outputs": [],
   "source": [
    "import pandas as pd\n",
    "from matplotlib import pyplot as plt\n",
    "import seaborn as sns\n",
    "import plotly.express as px\n",
    "from IPython.core.interactiveshell import InteractiveShell\n",
    "InteractiveShell.ast_node_interactivity = \"all\"\n",
    "%matplotlib inline\n",
    "import warnings\n",
    "warnings.filterwarnings('ignore')\n",
    "\n",
    "import nltk\n",
    "from nltk.tokenize import word_tokenize\n",
    "from nltk.stem.snowball import SnowballStemmer\n",
    "from sklearn.feature_extraction.text import TfidfVectorizer\n",
    "from nltk.corpus import stopwords\n",
    "\n",
    "from sklearn.model_selection import train_test_split\n",
    "from sklearn.linear_model import LogisticRegression\n",
    "\n",
    "from sklearn.metrics import accuracy_score"
   ]
  },
  {
   "cell_type": "markdown",
   "metadata": {
    "id": "6jVrdIxMlAj4"
   },
   "source": [
    "### Explore and Visualize Data\n",
    "\n",
    "* Load the train, test, and submission files using Pandas\n",
    "* Explore rows, columns, sample values etc.\n",
    "* Visualize distribution of target columns"
   ]
  },
  {
   "cell_type": "code",
   "execution_count": 21,
   "metadata": {
    "executionInfo": {
     "elapsed": 3,
     "status": "ok",
     "timestamp": 1668785389278,
     "user": {
      "displayName": "Sanket Patel",
      "userId": "04819273699461657041"
     },
     "user_tz": -330
    },
    "id": "F05y0CpXj1kD"
   },
   "outputs": [],
   "source": [
    "train_fname = \"/content/sentiment-analysis-movie-review/train.tsv\"\n",
    "test_fname = \"/content/sentiment-analysis-movie-review/test.tsv\"\n",
    "sub_fname = \"/content/sentiment-analysis-on-movie-reviews/sampleSubmission.csv\""
   ]
  },
  {
   "cell_type": "code",
   "execution_count": 15,
   "metadata": {
    "executionInfo": {
     "elapsed": 3,
     "status": "ok",
     "timestamp": 1668785343826,
     "user": {
      "displayName": "Sanket Patel",
      "userId": "04819273699461657041"
     },
     "user_tz": -330
    },
    "id": "QOq7CBqftvz-"
   },
   "outputs": [],
   "source": [
    "raw_df = pd.read_csv(train_fname,sep='\\t')"
   ]
  },
  {
   "cell_type": "code",
   "execution_count": 16,
   "metadata": {
    "colab": {
     "base_uri": "https://localhost:8080/",
     "height": 112
    },
    "executionInfo": {
     "elapsed": 9,
     "status": "ok",
     "timestamp": 1668785344385,
     "user": {
      "displayName": "Sanket Patel",
      "userId": "04819273699461657041"
     },
     "user_tz": -330
    },
    "id": "QjwayeXSkuJ9",
    "outputId": "c7b01f52-08fc-4db9-e635-f446adfa4ac9"
   },
   "outputs": [
    {
     "data": {
      "text/html": [
       "\n",
       "  <div id=\"df-362f7c93-5963-498f-a051-bed789db848c\">\n",
       "    <div class=\"colab-df-container\">\n",
       "      <div>\n",
       "<style scoped>\n",
       "    .dataframe tbody tr th:only-of-type {\n",
       "        vertical-align: middle;\n",
       "    }\n",
       "\n",
       "    .dataframe tbody tr th {\n",
       "        vertical-align: top;\n",
       "    }\n",
       "\n",
       "    .dataframe thead th {\n",
       "        text-align: right;\n",
       "    }\n",
       "</style>\n",
       "<table border=\"1\" class=\"dataframe\">\n",
       "  <thead>\n",
       "    <tr style=\"text-align: right;\">\n",
       "      <th></th>\n",
       "      <th>PhraseId</th>\n",
       "      <th>SentenceId</th>\n",
       "      <th>Phrase</th>\n",
       "      <th>Sentiment</th>\n",
       "    </tr>\n",
       "  </thead>\n",
       "  <tbody>\n",
       "    <tr>\n",
       "      <th>0</th>\n",
       "      <td>1</td>\n",
       "      <td>1</td>\n",
       "      <td>A series of escapades demonstrating the adage ...</td>\n",
       "      <td>1</td>\n",
       "    </tr>\n",
       "    <tr>\n",
       "      <th>1</th>\n",
       "      <td>2</td>\n",
       "      <td>1</td>\n",
       "      <td>A series of escapades demonstrating the adage ...</td>\n",
       "      <td>2</td>\n",
       "    </tr>\n",
       "  </tbody>\n",
       "</table>\n",
       "</div>\n",
       "      <button class=\"colab-df-convert\" onclick=\"convertToInteractive('df-362f7c93-5963-498f-a051-bed789db848c')\"\n",
       "              title=\"Convert this dataframe to an interactive table.\"\n",
       "              style=\"display:none;\">\n",
       "        \n",
       "  <svg xmlns=\"http://www.w3.org/2000/svg\" height=\"24px\"viewBox=\"0 0 24 24\"\n",
       "       width=\"24px\">\n",
       "    <path d=\"M0 0h24v24H0V0z\" fill=\"none\"/>\n",
       "    <path d=\"M18.56 5.44l.94 2.06.94-2.06 2.06-.94-2.06-.94-.94-2.06-.94 2.06-2.06.94zm-11 1L8.5 8.5l.94-2.06 2.06-.94-2.06-.94L8.5 2.5l-.94 2.06-2.06.94zm10 10l.94 2.06.94-2.06 2.06-.94-2.06-.94-.94-2.06-.94 2.06-2.06.94z\"/><path d=\"M17.41 7.96l-1.37-1.37c-.4-.4-.92-.59-1.43-.59-.52 0-1.04.2-1.43.59L10.3 9.45l-7.72 7.72c-.78.78-.78 2.05 0 2.83L4 21.41c.39.39.9.59 1.41.59.51 0 1.02-.2 1.41-.59l7.78-7.78 2.81-2.81c.8-.78.8-2.07 0-2.86zM5.41 20L4 18.59l7.72-7.72 1.47 1.35L5.41 20z\"/>\n",
       "  </svg>\n",
       "      </button>\n",
       "      \n",
       "  <style>\n",
       "    .colab-df-container {\n",
       "      display:flex;\n",
       "      flex-wrap:wrap;\n",
       "      gap: 12px;\n",
       "    }\n",
       "\n",
       "    .colab-df-convert {\n",
       "      background-color: #E8F0FE;\n",
       "      border: none;\n",
       "      border-radius: 50%;\n",
       "      cursor: pointer;\n",
       "      display: none;\n",
       "      fill: #1967D2;\n",
       "      height: 32px;\n",
       "      padding: 0 0 0 0;\n",
       "      width: 32px;\n",
       "    }\n",
       "\n",
       "    .colab-df-convert:hover {\n",
       "      background-color: #E2EBFA;\n",
       "      box-shadow: 0px 1px 2px rgba(60, 64, 67, 0.3), 0px 1px 3px 1px rgba(60, 64, 67, 0.15);\n",
       "      fill: #174EA6;\n",
       "    }\n",
       "\n",
       "    [theme=dark] .colab-df-convert {\n",
       "      background-color: #3B4455;\n",
       "      fill: #D2E3FC;\n",
       "    }\n",
       "\n",
       "    [theme=dark] .colab-df-convert:hover {\n",
       "      background-color: #434B5C;\n",
       "      box-shadow: 0px 1px 3px 1px rgba(0, 0, 0, 0.15);\n",
       "      filter: drop-shadow(0px 1px 2px rgba(0, 0, 0, 0.3));\n",
       "      fill: #FFFFFF;\n",
       "    }\n",
       "  </style>\n",
       "\n",
       "      <script>\n",
       "        const buttonEl =\n",
       "          document.querySelector('#df-362f7c93-5963-498f-a051-bed789db848c button.colab-df-convert');\n",
       "        buttonEl.style.display =\n",
       "          google.colab.kernel.accessAllowed ? 'block' : 'none';\n",
       "\n",
       "        async function convertToInteractive(key) {\n",
       "          const element = document.querySelector('#df-362f7c93-5963-498f-a051-bed789db848c');\n",
       "          const dataTable =\n",
       "            await google.colab.kernel.invokeFunction('convertToInteractive',\n",
       "                                                     [key], {});\n",
       "          if (!dataTable) return;\n",
       "\n",
       "          const docLinkHtml = 'Like what you see? Visit the ' +\n",
       "            '<a target=\"_blank\" href=https://colab.research.google.com/notebooks/data_table.ipynb>data table notebook</a>'\n",
       "            + ' to learn more about interactive tables.';\n",
       "          element.innerHTML = '';\n",
       "          dataTable['output_type'] = 'display_data';\n",
       "          await google.colab.output.renderOutput(dataTable, element);\n",
       "          const docLink = document.createElement('div');\n",
       "          docLink.innerHTML = docLinkHtml;\n",
       "          element.appendChild(docLink);\n",
       "        }\n",
       "      </script>\n",
       "    </div>\n",
       "  </div>\n",
       "  "
      ],
      "text/plain": [
       "   PhraseId  SentenceId                                             Phrase  \\\n",
       "0         1           1  A series of escapades demonstrating the adage ...   \n",
       "1         2           1  A series of escapades demonstrating the adage ...   \n",
       "\n",
       "   Sentiment  \n",
       "0          1  \n",
       "1          2  "
      ]
     },
     "execution_count": 16,
     "metadata": {},
     "output_type": "execute_result"
    }
   ],
   "source": [
    "raw_df.head(2)"
   ]
  },
  {
   "cell_type": "code",
   "execution_count": 17,
   "metadata": {
    "colab": {
     "base_uri": "https://localhost:8080/"
    },
    "executionInfo": {
     "elapsed": 3,
     "status": "ok",
     "timestamp": 1668785345854,
     "user": {
      "displayName": "Sanket Patel",
      "userId": "04819273699461657041"
     },
     "user_tz": -330
    },
    "id": "xZzQbALnkuDv",
    "outputId": "3b98abb7-8b24-45fd-c881-99d7bfad8747"
   },
   "outputs": [
    {
     "data": {
      "text/plain": [
       "76382    Intensely romantic , thought-provoking and eve...\n",
       "37837    a mere plot pawn for two directors with far le...\n",
       "46313    re-assess the basis for our lives and evaluate...\n",
       "94045    the most part a useless movie , even with a gr...\n",
       "28776                            run-of-the-mill revulsion\n",
       "Name: Phrase, dtype: object"
      ]
     },
     "execution_count": 17,
     "metadata": {},
     "output_type": "execute_result"
    }
   ],
   "source": [
    "raw_df.Phrase.sample(5)"
   ]
  },
  {
   "cell_type": "code",
   "execution_count": 18,
   "metadata": {
    "executionInfo": {
     "elapsed": 2,
     "status": "ok",
     "timestamp": 1668785345854,
     "user": {
      "displayName": "Sanket Patel",
      "userId": "04819273699461657041"
     },
     "user_tz": -330
    },
    "id": "H2JenReXw7SI"
   },
   "outputs": [],
   "source": [
    "test_df = pd.read_csv(test_fname,sep='\\t')"
   ]
  },
  {
   "cell_type": "code",
   "execution_count": 19,
   "metadata": {
    "colab": {
     "base_uri": "https://localhost:8080/",
     "height": 363
    },
    "executionInfo": {
     "elapsed": 6,
     "status": "ok",
     "timestamp": 1668785346298,
     "user": {
      "displayName": "Sanket Patel",
      "userId": "04819273699461657041"
     },
     "user_tz": -330
    },
    "id": "oPwLSKsrvdTa",
    "outputId": "9cde4843-9dc8-4f5f-d58e-4fa3e988e119"
   },
   "outputs": [
    {
     "data": {
      "text/html": [
       "\n",
       "  <div id=\"df-af99490d-386b-4be0-8091-4c54be467bf4\">\n",
       "    <div class=\"colab-df-container\">\n",
       "      <div>\n",
       "<style scoped>\n",
       "    .dataframe tbody tr th:only-of-type {\n",
       "        vertical-align: middle;\n",
       "    }\n",
       "\n",
       "    .dataframe tbody tr th {\n",
       "        vertical-align: top;\n",
       "    }\n",
       "\n",
       "    .dataframe thead th {\n",
       "        text-align: right;\n",
       "    }\n",
       "</style>\n",
       "<table border=\"1\" class=\"dataframe\">\n",
       "  <thead>\n",
       "    <tr style=\"text-align: right;\">\n",
       "      <th></th>\n",
       "      <th>PhraseId</th>\n",
       "      <th>SentenceId</th>\n",
       "      <th>Phrase</th>\n",
       "    </tr>\n",
       "  </thead>\n",
       "  <tbody>\n",
       "    <tr>\n",
       "      <th>63324</th>\n",
       "      <td>219385</td>\n",
       "      <td>11687</td>\n",
       "      <td>from a large group of your relatives</td>\n",
       "    </tr>\n",
       "    <tr>\n",
       "      <th>7519</th>\n",
       "      <td>163580</td>\n",
       "      <td>8842</td>\n",
       "      <td>has made from its other animated TV series</td>\n",
       "    </tr>\n",
       "    <tr>\n",
       "      <th>25570</th>\n",
       "      <td>181631</td>\n",
       "      <td>9709</td>\n",
       "      <td>of all slashers</td>\n",
       "    </tr>\n",
       "    <tr>\n",
       "      <th>60058</th>\n",
       "      <td>216119</td>\n",
       "      <td>11513</td>\n",
       "      <td>crafted and</td>\n",
       "    </tr>\n",
       "    <tr>\n",
       "      <th>44783</th>\n",
       "      <td>200844</td>\n",
       "      <td>10682</td>\n",
       "      <td>CliffsNotes version</td>\n",
       "    </tr>\n",
       "    <tr>\n",
       "      <th>33531</th>\n",
       "      <td>189592</td>\n",
       "      <td>10107</td>\n",
       "      <td>penetrates with a rawness that that is both un...</td>\n",
       "    </tr>\n",
       "    <tr>\n",
       "      <th>24507</th>\n",
       "      <td>180568</td>\n",
       "      <td>9656</td>\n",
       "      <td>For starters , the story is just too slim .</td>\n",
       "    </tr>\n",
       "    <tr>\n",
       "      <th>10307</th>\n",
       "      <td>166368</td>\n",
       "      <td>8971</td>\n",
       "      <td>The film hinges on its performances , and both...</td>\n",
       "    </tr>\n",
       "    <tr>\n",
       "      <th>32795</th>\n",
       "      <td>188856</td>\n",
       "      <td>10069</td>\n",
       "      <td>a patch somewhere between mirthless Todd Solon...</td>\n",
       "    </tr>\n",
       "    <tr>\n",
       "      <th>36132</th>\n",
       "      <td>192193</td>\n",
       "      <td>10230</td>\n",
       "      <td>ultimately pulls up lame</td>\n",
       "    </tr>\n",
       "  </tbody>\n",
       "</table>\n",
       "</div>\n",
       "      <button class=\"colab-df-convert\" onclick=\"convertToInteractive('df-af99490d-386b-4be0-8091-4c54be467bf4')\"\n",
       "              title=\"Convert this dataframe to an interactive table.\"\n",
       "              style=\"display:none;\">\n",
       "        \n",
       "  <svg xmlns=\"http://www.w3.org/2000/svg\" height=\"24px\"viewBox=\"0 0 24 24\"\n",
       "       width=\"24px\">\n",
       "    <path d=\"M0 0h24v24H0V0z\" fill=\"none\"/>\n",
       "    <path d=\"M18.56 5.44l.94 2.06.94-2.06 2.06-.94-2.06-.94-.94-2.06-.94 2.06-2.06.94zm-11 1L8.5 8.5l.94-2.06 2.06-.94-2.06-.94L8.5 2.5l-.94 2.06-2.06.94zm10 10l.94 2.06.94-2.06 2.06-.94-2.06-.94-.94-2.06-.94 2.06-2.06.94z\"/><path d=\"M17.41 7.96l-1.37-1.37c-.4-.4-.92-.59-1.43-.59-.52 0-1.04.2-1.43.59L10.3 9.45l-7.72 7.72c-.78.78-.78 2.05 0 2.83L4 21.41c.39.39.9.59 1.41.59.51 0 1.02-.2 1.41-.59l7.78-7.78 2.81-2.81c.8-.78.8-2.07 0-2.86zM5.41 20L4 18.59l7.72-7.72 1.47 1.35L5.41 20z\"/>\n",
       "  </svg>\n",
       "      </button>\n",
       "      \n",
       "  <style>\n",
       "    .colab-df-container {\n",
       "      display:flex;\n",
       "      flex-wrap:wrap;\n",
       "      gap: 12px;\n",
       "    }\n",
       "\n",
       "    .colab-df-convert {\n",
       "      background-color: #E8F0FE;\n",
       "      border: none;\n",
       "      border-radius: 50%;\n",
       "      cursor: pointer;\n",
       "      display: none;\n",
       "      fill: #1967D2;\n",
       "      height: 32px;\n",
       "      padding: 0 0 0 0;\n",
       "      width: 32px;\n",
       "    }\n",
       "\n",
       "    .colab-df-convert:hover {\n",
       "      background-color: #E2EBFA;\n",
       "      box-shadow: 0px 1px 2px rgba(60, 64, 67, 0.3), 0px 1px 3px 1px rgba(60, 64, 67, 0.15);\n",
       "      fill: #174EA6;\n",
       "    }\n",
       "\n",
       "    [theme=dark] .colab-df-convert {\n",
       "      background-color: #3B4455;\n",
       "      fill: #D2E3FC;\n",
       "    }\n",
       "\n",
       "    [theme=dark] .colab-df-convert:hover {\n",
       "      background-color: #434B5C;\n",
       "      box-shadow: 0px 1px 3px 1px rgba(0, 0, 0, 0.15);\n",
       "      filter: drop-shadow(0px 1px 2px rgba(0, 0, 0, 0.3));\n",
       "      fill: #FFFFFF;\n",
       "    }\n",
       "  </style>\n",
       "\n",
       "      <script>\n",
       "        const buttonEl =\n",
       "          document.querySelector('#df-af99490d-386b-4be0-8091-4c54be467bf4 button.colab-df-convert');\n",
       "        buttonEl.style.display =\n",
       "          google.colab.kernel.accessAllowed ? 'block' : 'none';\n",
       "\n",
       "        async function convertToInteractive(key) {\n",
       "          const element = document.querySelector('#df-af99490d-386b-4be0-8091-4c54be467bf4');\n",
       "          const dataTable =\n",
       "            await google.colab.kernel.invokeFunction('convertToInteractive',\n",
       "                                                     [key], {});\n",
       "          if (!dataTable) return;\n",
       "\n",
       "          const docLinkHtml = 'Like what you see? Visit the ' +\n",
       "            '<a target=\"_blank\" href=https://colab.research.google.com/notebooks/data_table.ipynb>data table notebook</a>'\n",
       "            + ' to learn more about interactive tables.';\n",
       "          element.innerHTML = '';\n",
       "          dataTable['output_type'] = 'display_data';\n",
       "          await google.colab.output.renderOutput(dataTable, element);\n",
       "          const docLink = document.createElement('div');\n",
       "          docLink.innerHTML = docLinkHtml;\n",
       "          element.appendChild(docLink);\n",
       "        }\n",
       "      </script>\n",
       "    </div>\n",
       "  </div>\n",
       "  "
      ],
      "text/plain": [
       "       PhraseId  SentenceId                                             Phrase\n",
       "63324    219385       11687               from a large group of your relatives\n",
       "7519     163580        8842         has made from its other animated TV series\n",
       "25570    181631        9709                                    of all slashers\n",
       "60058    216119       11513                                        crafted and\n",
       "44783    200844       10682                                CliffsNotes version\n",
       "33531    189592       10107  penetrates with a rawness that that is both un...\n",
       "24507    180568        9656        For starters , the story is just too slim .\n",
       "10307    166368        8971  The film hinges on its performances , and both...\n",
       "32795    188856       10069  a patch somewhere between mirthless Todd Solon...\n",
       "36132    192193       10230                           ultimately pulls up lame"
      ]
     },
     "execution_count": 19,
     "metadata": {},
     "output_type": "execute_result"
    }
   ],
   "source": [
    "test_df.sample(10)"
   ]
  },
  {
   "cell_type": "code",
   "execution_count": 22,
   "metadata": {
    "executionInfo": {
     "elapsed": 2,
     "status": "ok",
     "timestamp": 1668785393544,
     "user": {
      "displayName": "Sanket Patel",
      "userId": "04819273699461657041"
     },
     "user_tz": -330
    },
    "id": "4-cvRH3HenYx"
   },
   "outputs": [],
   "source": [
    "sub_df = pd.read_csv(sub_fname)"
   ]
  },
  {
   "cell_type": "code",
   "execution_count": 23,
   "metadata": {
    "colab": {
     "base_uri": "https://localhost:8080/",
     "height": 363
    },
    "executionInfo": {
     "elapsed": 4,
     "status": "ok",
     "timestamp": 1668785397015,
     "user": {
      "displayName": "Sanket Patel",
      "userId": "04819273699461657041"
     },
     "user_tz": -330
    },
    "id": "EF3B9tjTxJVn",
    "outputId": "4b6b9a7d-6a76-49c5-dc1f-a99b05243619"
   },
   "outputs": [
    {
     "data": {
      "text/html": [
       "\n",
       "  <div id=\"df-be039d82-8ca8-4aee-9c13-b347c9d6cb81\">\n",
       "    <div class=\"colab-df-container\">\n",
       "      <div>\n",
       "<style scoped>\n",
       "    .dataframe tbody tr th:only-of-type {\n",
       "        vertical-align: middle;\n",
       "    }\n",
       "\n",
       "    .dataframe tbody tr th {\n",
       "        vertical-align: top;\n",
       "    }\n",
       "\n",
       "    .dataframe thead th {\n",
       "        text-align: right;\n",
       "    }\n",
       "</style>\n",
       "<table border=\"1\" class=\"dataframe\">\n",
       "  <thead>\n",
       "    <tr style=\"text-align: right;\">\n",
       "      <th></th>\n",
       "      <th>PhraseId</th>\n",
       "      <th>Sentiment</th>\n",
       "    </tr>\n",
       "  </thead>\n",
       "  <tbody>\n",
       "    <tr>\n",
       "      <th>65724</th>\n",
       "      <td>221785</td>\n",
       "      <td>2</td>\n",
       "    </tr>\n",
       "    <tr>\n",
       "      <th>31415</th>\n",
       "      <td>187476</td>\n",
       "      <td>2</td>\n",
       "    </tr>\n",
       "    <tr>\n",
       "      <th>49406</th>\n",
       "      <td>205467</td>\n",
       "      <td>2</td>\n",
       "    </tr>\n",
       "    <tr>\n",
       "      <th>16303</th>\n",
       "      <td>172364</td>\n",
       "      <td>2</td>\n",
       "    </tr>\n",
       "    <tr>\n",
       "      <th>32781</th>\n",
       "      <td>188842</td>\n",
       "      <td>2</td>\n",
       "    </tr>\n",
       "    <tr>\n",
       "      <th>18479</th>\n",
       "      <td>174540</td>\n",
       "      <td>2</td>\n",
       "    </tr>\n",
       "    <tr>\n",
       "      <th>53932</th>\n",
       "      <td>209993</td>\n",
       "      <td>2</td>\n",
       "    </tr>\n",
       "    <tr>\n",
       "      <th>44370</th>\n",
       "      <td>200431</td>\n",
       "      <td>2</td>\n",
       "    </tr>\n",
       "    <tr>\n",
       "      <th>44136</th>\n",
       "      <td>200197</td>\n",
       "      <td>2</td>\n",
       "    </tr>\n",
       "    <tr>\n",
       "      <th>45522</th>\n",
       "      <td>201583</td>\n",
       "      <td>2</td>\n",
       "    </tr>\n",
       "  </tbody>\n",
       "</table>\n",
       "</div>\n",
       "      <button class=\"colab-df-convert\" onclick=\"convertToInteractive('df-be039d82-8ca8-4aee-9c13-b347c9d6cb81')\"\n",
       "              title=\"Convert this dataframe to an interactive table.\"\n",
       "              style=\"display:none;\">\n",
       "        \n",
       "  <svg xmlns=\"http://www.w3.org/2000/svg\" height=\"24px\"viewBox=\"0 0 24 24\"\n",
       "       width=\"24px\">\n",
       "    <path d=\"M0 0h24v24H0V0z\" fill=\"none\"/>\n",
       "    <path d=\"M18.56 5.44l.94 2.06.94-2.06 2.06-.94-2.06-.94-.94-2.06-.94 2.06-2.06.94zm-11 1L8.5 8.5l.94-2.06 2.06-.94-2.06-.94L8.5 2.5l-.94 2.06-2.06.94zm10 10l.94 2.06.94-2.06 2.06-.94-2.06-.94-.94-2.06-.94 2.06-2.06.94z\"/><path d=\"M17.41 7.96l-1.37-1.37c-.4-.4-.92-.59-1.43-.59-.52 0-1.04.2-1.43.59L10.3 9.45l-7.72 7.72c-.78.78-.78 2.05 0 2.83L4 21.41c.39.39.9.59 1.41.59.51 0 1.02-.2 1.41-.59l7.78-7.78 2.81-2.81c.8-.78.8-2.07 0-2.86zM5.41 20L4 18.59l7.72-7.72 1.47 1.35L5.41 20z\"/>\n",
       "  </svg>\n",
       "      </button>\n",
       "      \n",
       "  <style>\n",
       "    .colab-df-container {\n",
       "      display:flex;\n",
       "      flex-wrap:wrap;\n",
       "      gap: 12px;\n",
       "    }\n",
       "\n",
       "    .colab-df-convert {\n",
       "      background-color: #E8F0FE;\n",
       "      border: none;\n",
       "      border-radius: 50%;\n",
       "      cursor: pointer;\n",
       "      display: none;\n",
       "      fill: #1967D2;\n",
       "      height: 32px;\n",
       "      padding: 0 0 0 0;\n",
       "      width: 32px;\n",
       "    }\n",
       "\n",
       "    .colab-df-convert:hover {\n",
       "      background-color: #E2EBFA;\n",
       "      box-shadow: 0px 1px 2px rgba(60, 64, 67, 0.3), 0px 1px 3px 1px rgba(60, 64, 67, 0.15);\n",
       "      fill: #174EA6;\n",
       "    }\n",
       "\n",
       "    [theme=dark] .colab-df-convert {\n",
       "      background-color: #3B4455;\n",
       "      fill: #D2E3FC;\n",
       "    }\n",
       "\n",
       "    [theme=dark] .colab-df-convert:hover {\n",
       "      background-color: #434B5C;\n",
       "      box-shadow: 0px 1px 3px 1px rgba(0, 0, 0, 0.15);\n",
       "      filter: drop-shadow(0px 1px 2px rgba(0, 0, 0, 0.3));\n",
       "      fill: #FFFFFF;\n",
       "    }\n",
       "  </style>\n",
       "\n",
       "      <script>\n",
       "        const buttonEl =\n",
       "          document.querySelector('#df-be039d82-8ca8-4aee-9c13-b347c9d6cb81 button.colab-df-convert');\n",
       "        buttonEl.style.display =\n",
       "          google.colab.kernel.accessAllowed ? 'block' : 'none';\n",
       "\n",
       "        async function convertToInteractive(key) {\n",
       "          const element = document.querySelector('#df-be039d82-8ca8-4aee-9c13-b347c9d6cb81');\n",
       "          const dataTable =\n",
       "            await google.colab.kernel.invokeFunction('convertToInteractive',\n",
       "                                                     [key], {});\n",
       "          if (!dataTable) return;\n",
       "\n",
       "          const docLinkHtml = 'Like what you see? Visit the ' +\n",
       "            '<a target=\"_blank\" href=https://colab.research.google.com/notebooks/data_table.ipynb>data table notebook</a>'\n",
       "            + ' to learn more about interactive tables.';\n",
       "          element.innerHTML = '';\n",
       "          dataTable['output_type'] = 'display_data';\n",
       "          await google.colab.output.renderOutput(dataTable, element);\n",
       "          const docLink = document.createElement('div');\n",
       "          docLink.innerHTML = docLinkHtml;\n",
       "          element.appendChild(docLink);\n",
       "        }\n",
       "      </script>\n",
       "    </div>\n",
       "  </div>\n",
       "  "
      ],
      "text/plain": [
       "       PhraseId  Sentiment\n",
       "65724    221785          2\n",
       "31415    187476          2\n",
       "49406    205467          2\n",
       "16303    172364          2\n",
       "32781    188842          2\n",
       "18479    174540          2\n",
       "53932    209993          2\n",
       "44370    200431          2\n",
       "44136    200197          2\n",
       "45522    201583          2"
      ]
     },
     "execution_count": 23,
     "metadata": {},
     "output_type": "execute_result"
    }
   ],
   "source": [
    "sub_df.sample(10)"
   ]
  },
  {
   "cell_type": "code",
   "execution_count": 24,
   "metadata": {
    "colab": {
     "base_uri": "https://localhost:8080/"
    },
    "executionInfo": {
     "elapsed": 674,
     "status": "ok",
     "timestamp": 1668785408419,
     "user": {
      "displayName": "Sanket Patel",
      "userId": "04819273699461657041"
     },
     "user_tz": -330
    },
    "id": "yM77nfCNo7Jc",
    "outputId": "f843ca2f-526c-46d0-b224-55001b6c45c9"
   },
   "outputs": [
    {
     "data": {
      "text/plain": [
       "0     7072\n",
       "1    27273\n",
       "2    79582\n",
       "3    32927\n",
       "4     9206\n",
       "Name: Sentiment, dtype: int64"
      ]
     },
     "execution_count": 24,
     "metadata": {},
     "output_type": "execute_result"
    }
   ],
   "source": [
    "raw_df.Sentiment.value_counts(normalize=False,sort=True).sort_index()"
   ]
  },
  {
   "cell_type": "code",
   "execution_count": 25,
   "metadata": {
    "colab": {
     "base_uri": "https://localhost:8080/",
     "height": 542
    },
    "executionInfo": {
     "elapsed": 647,
     "status": "ok",
     "timestamp": 1668785410827,
     "user": {
      "displayName": "Sanket Patel",
      "userId": "04819273699461657041"
     },
     "user_tz": -330
    },
    "id": "DLg9Uq8Ym6QN",
    "outputId": "26cc4141-d911-48d6-a90a-95c6f97e5f2b"
   },
   "outputs": [
    {
     "data": {
      "text/html": [
       "<html>\n",
       "<head><meta charset=\"utf-8\" /></head>\n",
       "<body>\n",
       "    <div>            <script src=\"https://cdnjs.cloudflare.com/ajax/libs/mathjax/2.7.5/MathJax.js?config=TeX-AMS-MML_SVG\"></script><script type=\"text/javascript\">if (window.MathJax) {MathJax.Hub.Config({SVG: {font: \"STIX-Web\"}});}</script>                <script type=\"text/javascript\">window.PlotlyConfig = {MathJaxConfig: 'local'};</script>\n",
       "        <script src=\"https://cdn.plot.ly/plotly-2.8.3.min.js\"></script>                <div id=\"fef151fc-9035-4f6b-9b80-adac3bf25e54\" class=\"plotly-graph-div\" style=\"height:525px; width:100%;\"></div>            <script type=\"text/javascript\">                                    window.PLOTLYENV=window.PLOTLYENV || {};                                    if (document.getElementById(\"fef151fc-9035-4f6b-9b80-adac3bf25e54\")) {                    Plotly.newPlot(                        \"fef151fc-9035-4f6b-9b80-adac3bf25e54\",                        [{\"alignmentgroup\":\"True\",\"hovertemplate\":\"variable=Sentiment<br>Sentiment Class=%{x}<br>Counts=%{y}<extra></extra>\",\"legendgroup\":\"Sentiment\",\"marker\":{\"color\":\"#636efa\",\"pattern\":{\"shape\":\"\"}},\"name\":\"Sentiment\",\"offsetgroup\":\"Sentiment\",\"orientation\":\"v\",\"showlegend\":true,\"textposition\":\"auto\",\"x\":[0,1,2,3,4],\"xaxis\":\"x\",\"y\":[7072,27273,79582,32927,9206],\"yaxis\":\"y\",\"type\":\"bar\"}],                        {\"template\":{\"data\":{\"bar\":[{\"error_x\":{\"color\":\"#2a3f5f\"},\"error_y\":{\"color\":\"#2a3f5f\"},\"marker\":{\"line\":{\"color\":\"#E5ECF6\",\"width\":0.5},\"pattern\":{\"fillmode\":\"overlay\",\"size\":10,\"solidity\":0.2}},\"type\":\"bar\"}],\"barpolar\":[{\"marker\":{\"line\":{\"color\":\"#E5ECF6\",\"width\":0.5},\"pattern\":{\"fillmode\":\"overlay\",\"size\":10,\"solidity\":0.2}},\"type\":\"barpolar\"}],\"carpet\":[{\"aaxis\":{\"endlinecolor\":\"#2a3f5f\",\"gridcolor\":\"white\",\"linecolor\":\"white\",\"minorgridcolor\":\"white\",\"startlinecolor\":\"#2a3f5f\"},\"baxis\":{\"endlinecolor\":\"#2a3f5f\",\"gridcolor\":\"white\",\"linecolor\":\"white\",\"minorgridcolor\":\"white\",\"startlinecolor\":\"#2a3f5f\"},\"type\":\"carpet\"}],\"choropleth\":[{\"colorbar\":{\"outlinewidth\":0,\"ticks\":\"\"},\"type\":\"choropleth\"}],\"contour\":[{\"colorbar\":{\"outlinewidth\":0,\"ticks\":\"\"},\"colorscale\":[[0.0,\"#0d0887\"],[0.1111111111111111,\"#46039f\"],[0.2222222222222222,\"#7201a8\"],[0.3333333333333333,\"#9c179e\"],[0.4444444444444444,\"#bd3786\"],[0.5555555555555556,\"#d8576b\"],[0.6666666666666666,\"#ed7953\"],[0.7777777777777778,\"#fb9f3a\"],[0.8888888888888888,\"#fdca26\"],[1.0,\"#f0f921\"]],\"type\":\"contour\"}],\"contourcarpet\":[{\"colorbar\":{\"outlinewidth\":0,\"ticks\":\"\"},\"type\":\"contourcarpet\"}],\"heatmap\":[{\"colorbar\":{\"outlinewidth\":0,\"ticks\":\"\"},\"colorscale\":[[0.0,\"#0d0887\"],[0.1111111111111111,\"#46039f\"],[0.2222222222222222,\"#7201a8\"],[0.3333333333333333,\"#9c179e\"],[0.4444444444444444,\"#bd3786\"],[0.5555555555555556,\"#d8576b\"],[0.6666666666666666,\"#ed7953\"],[0.7777777777777778,\"#fb9f3a\"],[0.8888888888888888,\"#fdca26\"],[1.0,\"#f0f921\"]],\"type\":\"heatmap\"}],\"heatmapgl\":[{\"colorbar\":{\"outlinewidth\":0,\"ticks\":\"\"},\"colorscale\":[[0.0,\"#0d0887\"],[0.1111111111111111,\"#46039f\"],[0.2222222222222222,\"#7201a8\"],[0.3333333333333333,\"#9c179e\"],[0.4444444444444444,\"#bd3786\"],[0.5555555555555556,\"#d8576b\"],[0.6666666666666666,\"#ed7953\"],[0.7777777777777778,\"#fb9f3a\"],[0.8888888888888888,\"#fdca26\"],[1.0,\"#f0f921\"]],\"type\":\"heatmapgl\"}],\"histogram\":[{\"marker\":{\"pattern\":{\"fillmode\":\"overlay\",\"size\":10,\"solidity\":0.2}},\"type\":\"histogram\"}],\"histogram2d\":[{\"colorbar\":{\"outlinewidth\":0,\"ticks\":\"\"},\"colorscale\":[[0.0,\"#0d0887\"],[0.1111111111111111,\"#46039f\"],[0.2222222222222222,\"#7201a8\"],[0.3333333333333333,\"#9c179e\"],[0.4444444444444444,\"#bd3786\"],[0.5555555555555556,\"#d8576b\"],[0.6666666666666666,\"#ed7953\"],[0.7777777777777778,\"#fb9f3a\"],[0.8888888888888888,\"#fdca26\"],[1.0,\"#f0f921\"]],\"type\":\"histogram2d\"}],\"histogram2dcontour\":[{\"colorbar\":{\"outlinewidth\":0,\"ticks\":\"\"},\"colorscale\":[[0.0,\"#0d0887\"],[0.1111111111111111,\"#46039f\"],[0.2222222222222222,\"#7201a8\"],[0.3333333333333333,\"#9c179e\"],[0.4444444444444444,\"#bd3786\"],[0.5555555555555556,\"#d8576b\"],[0.6666666666666666,\"#ed7953\"],[0.7777777777777778,\"#fb9f3a\"],[0.8888888888888888,\"#fdca26\"],[1.0,\"#f0f921\"]],\"type\":\"histogram2dcontour\"}],\"mesh3d\":[{\"colorbar\":{\"outlinewidth\":0,\"ticks\":\"\"},\"type\":\"mesh3d\"}],\"parcoords\":[{\"line\":{\"colorbar\":{\"outlinewidth\":0,\"ticks\":\"\"}},\"type\":\"parcoords\"}],\"pie\":[{\"automargin\":true,\"type\":\"pie\"}],\"scatter\":[{\"marker\":{\"colorbar\":{\"outlinewidth\":0,\"ticks\":\"\"}},\"type\":\"scatter\"}],\"scatter3d\":[{\"line\":{\"colorbar\":{\"outlinewidth\":0,\"ticks\":\"\"}},\"marker\":{\"colorbar\":{\"outlinewidth\":0,\"ticks\":\"\"}},\"type\":\"scatter3d\"}],\"scattercarpet\":[{\"marker\":{\"colorbar\":{\"outlinewidth\":0,\"ticks\":\"\"}},\"type\":\"scattercarpet\"}],\"scattergeo\":[{\"marker\":{\"colorbar\":{\"outlinewidth\":0,\"ticks\":\"\"}},\"type\":\"scattergeo\"}],\"scattergl\":[{\"marker\":{\"colorbar\":{\"outlinewidth\":0,\"ticks\":\"\"}},\"type\":\"scattergl\"}],\"scattermapbox\":[{\"marker\":{\"colorbar\":{\"outlinewidth\":0,\"ticks\":\"\"}},\"type\":\"scattermapbox\"}],\"scatterpolar\":[{\"marker\":{\"colorbar\":{\"outlinewidth\":0,\"ticks\":\"\"}},\"type\":\"scatterpolar\"}],\"scatterpolargl\":[{\"marker\":{\"colorbar\":{\"outlinewidth\":0,\"ticks\":\"\"}},\"type\":\"scatterpolargl\"}],\"scatterternary\":[{\"marker\":{\"colorbar\":{\"outlinewidth\":0,\"ticks\":\"\"}},\"type\":\"scatterternary\"}],\"surface\":[{\"colorbar\":{\"outlinewidth\":0,\"ticks\":\"\"},\"colorscale\":[[0.0,\"#0d0887\"],[0.1111111111111111,\"#46039f\"],[0.2222222222222222,\"#7201a8\"],[0.3333333333333333,\"#9c179e\"],[0.4444444444444444,\"#bd3786\"],[0.5555555555555556,\"#d8576b\"],[0.6666666666666666,\"#ed7953\"],[0.7777777777777778,\"#fb9f3a\"],[0.8888888888888888,\"#fdca26\"],[1.0,\"#f0f921\"]],\"type\":\"surface\"}],\"table\":[{\"cells\":{\"fill\":{\"color\":\"#EBF0F8\"},\"line\":{\"color\":\"white\"}},\"header\":{\"fill\":{\"color\":\"#C8D4E3\"},\"line\":{\"color\":\"white\"}},\"type\":\"table\"}]},\"layout\":{\"annotationdefaults\":{\"arrowcolor\":\"#2a3f5f\",\"arrowhead\":0,\"arrowwidth\":1},\"autotypenumbers\":\"strict\",\"coloraxis\":{\"colorbar\":{\"outlinewidth\":0,\"ticks\":\"\"}},\"colorscale\":{\"diverging\":[[0,\"#8e0152\"],[0.1,\"#c51b7d\"],[0.2,\"#de77ae\"],[0.3,\"#f1b6da\"],[0.4,\"#fde0ef\"],[0.5,\"#f7f7f7\"],[0.6,\"#e6f5d0\"],[0.7,\"#b8e186\"],[0.8,\"#7fbc41\"],[0.9,\"#4d9221\"],[1,\"#276419\"]],\"sequential\":[[0.0,\"#0d0887\"],[0.1111111111111111,\"#46039f\"],[0.2222222222222222,\"#7201a8\"],[0.3333333333333333,\"#9c179e\"],[0.4444444444444444,\"#bd3786\"],[0.5555555555555556,\"#d8576b\"],[0.6666666666666666,\"#ed7953\"],[0.7777777777777778,\"#fb9f3a\"],[0.8888888888888888,\"#fdca26\"],[1.0,\"#f0f921\"]],\"sequentialminus\":[[0.0,\"#0d0887\"],[0.1111111111111111,\"#46039f\"],[0.2222222222222222,\"#7201a8\"],[0.3333333333333333,\"#9c179e\"],[0.4444444444444444,\"#bd3786\"],[0.5555555555555556,\"#d8576b\"],[0.6666666666666666,\"#ed7953\"],[0.7777777777777778,\"#fb9f3a\"],[0.8888888888888888,\"#fdca26\"],[1.0,\"#f0f921\"]]},\"colorway\":[\"#636efa\",\"#EF553B\",\"#00cc96\",\"#ab63fa\",\"#FFA15A\",\"#19d3f3\",\"#FF6692\",\"#B6E880\",\"#FF97FF\",\"#FECB52\"],\"font\":{\"color\":\"#2a3f5f\"},\"geo\":{\"bgcolor\":\"white\",\"lakecolor\":\"white\",\"landcolor\":\"#E5ECF6\",\"showlakes\":true,\"showland\":true,\"subunitcolor\":\"white\"},\"hoverlabel\":{\"align\":\"left\"},\"hovermode\":\"closest\",\"mapbox\":{\"style\":\"light\"},\"paper_bgcolor\":\"white\",\"plot_bgcolor\":\"#E5ECF6\",\"polar\":{\"angularaxis\":{\"gridcolor\":\"white\",\"linecolor\":\"white\",\"ticks\":\"\"},\"bgcolor\":\"#E5ECF6\",\"radialaxis\":{\"gridcolor\":\"white\",\"linecolor\":\"white\",\"ticks\":\"\"}},\"scene\":{\"xaxis\":{\"backgroundcolor\":\"#E5ECF6\",\"gridcolor\":\"white\",\"gridwidth\":2,\"linecolor\":\"white\",\"showbackground\":true,\"ticks\":\"\",\"zerolinecolor\":\"white\"},\"yaxis\":{\"backgroundcolor\":\"#E5ECF6\",\"gridcolor\":\"white\",\"gridwidth\":2,\"linecolor\":\"white\",\"showbackground\":true,\"ticks\":\"\",\"zerolinecolor\":\"white\"},\"zaxis\":{\"backgroundcolor\":\"#E5ECF6\",\"gridcolor\":\"white\",\"gridwidth\":2,\"linecolor\":\"white\",\"showbackground\":true,\"ticks\":\"\",\"zerolinecolor\":\"white\"}},\"shapedefaults\":{\"line\":{\"color\":\"#2a3f5f\"}},\"ternary\":{\"aaxis\":{\"gridcolor\":\"white\",\"linecolor\":\"white\",\"ticks\":\"\"},\"baxis\":{\"gridcolor\":\"white\",\"linecolor\":\"white\",\"ticks\":\"\"},\"bgcolor\":\"#E5ECF6\",\"caxis\":{\"gridcolor\":\"white\",\"linecolor\":\"white\",\"ticks\":\"\"}},\"title\":{\"x\":0.05},\"xaxis\":{\"automargin\":true,\"gridcolor\":\"white\",\"linecolor\":\"white\",\"ticks\":\"\",\"title\":{\"standoff\":15},\"zerolinecolor\":\"white\",\"zerolinewidth\":2},\"yaxis\":{\"automargin\":true,\"gridcolor\":\"white\",\"linecolor\":\"white\",\"ticks\":\"\",\"title\":{\"standoff\":15},\"zerolinecolor\":\"white\",\"zerolinewidth\":2}}},\"xaxis\":{\"anchor\":\"y\",\"domain\":[0.0,1.0],\"title\":{\"text\":\"Sentiment Class\"}},\"yaxis\":{\"anchor\":\"x\",\"domain\":[0.0,1.0],\"title\":{\"text\":\"Counts\"}},\"legend\":{\"title\":{\"text\":\"variable\"},\"tracegroupgap\":0},\"title\":{\"text\":\"Sentiment Distribution Train Data\"},\"barmode\":\"relative\"},                        {\"responsive\": true}                    ).then(function(){\n",
       "                            \n",
       "var gd = document.getElementById('fef151fc-9035-4f6b-9b80-adac3bf25e54');\n",
       "var x = new MutationObserver(function (mutations, observer) {{\n",
       "        var display = window.getComputedStyle(gd).display;\n",
       "        if (!display || display === 'none') {{\n",
       "            console.log([gd, 'removed!']);\n",
       "            Plotly.purge(gd);\n",
       "            observer.disconnect();\n",
       "        }}\n",
       "}});\n",
       "\n",
       "// Listen for the removal of the full notebook cells\n",
       "var notebookContainer = gd.closest('#notebook-container');\n",
       "if (notebookContainer) {{\n",
       "    x.observe(notebookContainer, {childList: true});\n",
       "}}\n",
       "\n",
       "// Listen for the clearing of the current output cell\n",
       "var outputEl = gd.closest('.output');\n",
       "if (outputEl) {{\n",
       "    x.observe(outputEl, {childList: true});\n",
       "}}\n",
       "\n",
       "                        })                };                            </script>        </div>\n",
       "</body>\n",
       "</html>"
      ]
     },
     "metadata": {},
     "output_type": "display_data"
    }
   ],
   "source": [
    "fig = px.bar(raw_df.Sentiment.value_counts(normalize=False,sort=True).sort_index(),title=\"Sentiment Distribution Train Data\",labels={\"index\":\"Sentiment Class\",\"value\":\"Counts\"})\n",
    "fig.show()"
   ]
  },
  {
   "cell_type": "code",
   "execution_count": 26,
   "metadata": {
    "colab": {
     "base_uri": "https://localhost:8080/"
    },
    "executionInfo": {
     "elapsed": 4,
     "status": "ok",
     "timestamp": 1668785411203,
     "user": {
      "displayName": "Sanket Patel",
      "userId": "04819273699461657041"
     },
     "user_tz": -330
    },
    "id": "ZwubETUvxTBo",
    "outputId": "73572d8b-b3de-4ed0-c938-9b17ee7f3943"
   },
   "outputs": [
    {
     "data": {
      "text/plain": [
       "count     45\n",
       "unique    45\n",
       "top        A\n",
       "freq       1\n",
       "Name: Phrase, dtype: object"
      ]
     },
     "execution_count": 26,
     "metadata": {},
     "output_type": "execute_result"
    }
   ],
   "source": [
    "#Count of short phrases(lenth < 2)\n",
    "raw_df['Phrase'][raw_df['Phrase'].apply(len)<2].reset_index(drop='index').describe()"
   ]
  },
  {
   "cell_type": "markdown",
   "metadata": {
    "id": "yESLHuK3x65P"
   },
   "source": [
    "Summarize your insights and learnings from the dataset below:\n",
    "\n",
    "* Sentiments Data is spread in gaussian  dsitribution\n",
    "* 45 short phrases(lenth < 2) are there."
   ]
  },
  {
   "cell_type": "markdown",
   "metadata": {
    "id": "pYaRDixJen33"
   },
   "source": [
    "## Implement TF-IDF Technique\n",
    "\n",
    "![](https://i.imgur.com/5VbUPup.png)\n",
    "\n",
    "Outline:\n",
    "\n",
    "1. Learn the vocabulary using `TfidfVectorizer`\n",
    "3. Transform training and test data"
   ]
  },
  {
   "cell_type": "markdown",
   "metadata": {
    "id": "m3cu-meXuETm"
   },
   "source": [
    "#### Learn Vocabulary using `TfidfVectorizer `\n",
    "\n",
    "* Create custom tokenizer with stemming\n",
    "* Create a list of stop words\n",
    "* Configure and create `TfidfVectorizer `\n",
    "* Learn vocubulary from training set\n",
    "* View sample entries from vocabulary"
   ]
  },
  {
   "cell_type": "code",
   "execution_count": 27,
   "metadata": {
    "colab": {
     "base_uri": "https://localhost:8080/"
    },
    "executionInfo": {
     "elapsed": 400,
     "status": "ok",
     "timestamp": 1668785422278,
     "user": {
      "displayName": "Sanket Patel",
      "userId": "04819273699461657041"
     },
     "user_tz": -330
    },
    "id": "Ag_lyI8mzbqE",
    "outputId": "a6249120-910e-48c6-977e-68d702300f44"
   },
   "outputs": [
    {
     "name": "stderr",
     "output_type": "stream",
     "text": [
      "[nltk_data] Downloading package punkt to /root/nltk_data...\n",
      "[nltk_data]   Unzipping tokenizers/punkt.zip.\n"
     ]
    },
    {
     "data": {
      "text/plain": [
       "True"
      ]
     },
     "execution_count": 27,
     "metadata": {},
     "output_type": "execute_result"
    }
   ],
   "source": [
    "nltk.download('punkt')"
   ]
  },
  {
   "cell_type": "code",
   "execution_count": 28,
   "metadata": {
    "colab": {
     "base_uri": "https://localhost:8080/"
    },
    "executionInfo": {
     "elapsed": 7,
     "status": "ok",
     "timestamp": 1668785422278,
     "user": {
      "displayName": "Sanket Patel",
      "userId": "04819273699461657041"
     },
     "user_tz": -330
    },
    "id": "4vzkmwVG0GGE",
    "outputId": "4230db63-f9c6-4d4b-b998-299daa97e8f3"
   },
   "outputs": [
    {
     "data": {
      "text/plain": [
       "['Hello', 'This', 'is', 'Word', 'Tokenizer']"
      ]
     },
     "execution_count": 28,
     "metadata": {},
     "output_type": "execute_result"
    }
   ],
   "source": [
    "word_tokenize(\"Hello This is Word Tokenizer\")"
   ]
  },
  {
   "cell_type": "code",
   "execution_count": 29,
   "metadata": {
    "executionInfo": {
     "elapsed": 3,
     "status": "ok",
     "timestamp": 1668785422669,
     "user": {
      "displayName": "Sanket Patel",
      "userId": "04819273699461657041"
     },
     "user_tz": -330
    },
    "id": "ffPOWbhdd7oP"
   },
   "outputs": [],
   "source": [
    "stemmer = SnowballStemmer(language='english')"
   ]
  },
  {
   "cell_type": "code",
   "execution_count": 30,
   "metadata": {
    "colab": {
     "base_uri": "https://localhost:8080/",
     "height": 38
    },
    "executionInfo": {
     "elapsed": 5,
     "status": "ok",
     "timestamp": 1668785423353,
     "user": {
      "displayName": "Sanket Patel",
      "userId": "04819273699461657041"
     },
     "user_tz": -330
    },
    "id": "Tp3P0zaw0ATc",
    "outputId": "8f4d4ba3-1c44-4b21-9148-a70d8bcb0b1d"
   },
   "outputs": [
    {
     "data": {
      "application/vnd.google.colaboratory.intrinsic+json": {
       "type": "string"
      },
      "text/plain": [
       "'work'"
      ]
     },
     "execution_count": 30,
     "metadata": {},
     "output_type": "execute_result"
    }
   ],
   "source": [
    "stemmer.stem(\"working\")"
   ]
  },
  {
   "cell_type": "code",
   "execution_count": 31,
   "metadata": {
    "executionInfo": {
     "elapsed": 11,
     "status": "ok",
     "timestamp": 1668785424854,
     "user": {
      "displayName": "Sanket Patel",
      "userId": "04819273699461657041"
     },
     "user_tz": -330
    },
    "id": "aggX4uwmeswS"
   },
   "outputs": [],
   "source": [
    "def tokenize(text):\n",
    "  return [stemmer.stem(token) for token in word_tokenize(text) if token.isalpha()]"
   ]
  },
  {
   "cell_type": "code",
   "execution_count": 32,
   "metadata": {
    "colab": {
     "base_uri": "https://localhost:8080/"
    },
    "executionInfo": {
     "elapsed": 10,
     "status": "ok",
     "timestamp": 1668785424855,
     "user": {
      "displayName": "Sanket Patel",
      "userId": "04819273699461657041"
     },
     "user_tz": -330
    },
    "id": "UWS0NJkk0Z2p",
    "outputId": "0679a7f5-74e7-4692-fe60-d7f50128d2a9"
   },
   "outputs": [
    {
     "data": {
      "text/plain": [
       "['this', 'is', 'great', 'exampl', 'of', 'work', 'life', 'love', 'it']"
      ]
     },
     "execution_count": 32,
     "metadata": {},
     "output_type": "execute_result"
    }
   ],
   "source": [
    "tokenize(\"This is great example of working; life loving it ?\")"
   ]
  },
  {
   "cell_type": "code",
   "execution_count": 33,
   "metadata": {
    "colab": {
     "base_uri": "https://localhost:8080/"
    },
    "executionInfo": {
     "elapsed": 9,
     "status": "ok",
     "timestamp": 1668785424856,
     "user": {
      "displayName": "Sanket Patel",
      "userId": "04819273699461657041"
     },
     "user_tz": -330
    },
    "id": "BNBpi22byjsT",
    "outputId": "1e293613-9872-4a6e-e743-a4dab7ff2de1"
   },
   "outputs": [
    {
     "name": "stderr",
     "output_type": "stream",
     "text": [
      "[nltk_data] Downloading package stopwords to /root/nltk_data...\n",
      "[nltk_data]   Unzipping corpora/stopwords.zip.\n"
     ]
    },
    {
     "data": {
      "text/plain": [
       "True"
      ]
     },
     "execution_count": 33,
     "metadata": {},
     "output_type": "execute_result"
    }
   ],
   "source": [
    "nltk.download('stopwords')"
   ]
  },
  {
   "cell_type": "code",
   "execution_count": 34,
   "metadata": {
    "executionInfo": {
     "elapsed": 4,
     "status": "ok",
     "timestamp": 1668785425954,
     "user": {
      "displayName": "Sanket Patel",
      "userId": "04819273699461657041"
     },
     "user_tz": -330
    },
    "id": "5Vf-sUolyuGq"
   },
   "outputs": [],
   "source": [
    "english_stopwords = stopwords.words('english')"
   ]
  },
  {
   "cell_type": "code",
   "execution_count": 35,
   "metadata": {
    "colab": {
     "base_uri": "https://localhost:8080/",
     "height": 127
    },
    "executionInfo": {
     "elapsed": 5,
     "status": "ok",
     "timestamp": 1668785425955,
     "user": {
      "displayName": "Sanket Patel",
      "userId": "04819273699461657041"
     },
     "user_tz": -330
    },
    "id": "1ziwjsQVzKZZ",
    "outputId": "041fa43a-62b5-4efc-ab15-211c93ca9748"
   },
   "outputs": [
    {
     "data": {
      "application/vnd.google.colaboratory.intrinsic+json": {
       "type": "string"
      },
      "text/plain": [
       "\"i, me, my, myself, we, our, ours, ourselves, you, you're, you've, you'll, you'd, your, yours, yourself, yourselves, he, him, his, himself, she, she's, her, hers, herself, it, it's, its, itself, they, them, their, theirs, themselves, what, which, who, whom, this, that, that'll, these, those, am, is, are, was, were, be, been, being, have, has, had, having, do, does, did, doing, a, an, the, and, but, if, or, because, as, until, while, of, at, by, for, with, about, against, between, into, through, during, before, after, above, below, to, from, up, down, in, out, on, off, over, under, again, further, then, once, here, there, when, where, why, how, all, any, both, each, few, more, most, other, some, such, no, nor, not, only, own, same, so, than, too, very, s, t, can, will, just, don, don't, should, should've, now, d, ll, m, o, re, ve, y, ain, aren, aren't, couldn, couldn't, didn, didn't, doesn, doesn't, hadn, hadn't, hasn, hasn't, haven, haven't, isn, isn't, ma, mightn, mightn't, mustn, mustn't, needn, needn't, shan, shan't, shouldn, shouldn't, wasn, wasn't, weren, weren't, won, won't, wouldn, wouldn't\""
      ]
     },
     "execution_count": 35,
     "metadata": {},
     "output_type": "execute_result"
    }
   ],
   "source": [
    "\", \".join(english_stopwords)"
   ]
  },
  {
   "cell_type": "code",
   "execution_count": 36,
   "metadata": {
    "executionInfo": {
     "elapsed": 4,
     "status": "ok",
     "timestamp": 1668785426415,
     "user": {
      "displayName": "Sanket Patel",
      "userId": "04819273699461657041"
     },
     "user_tz": -330
    },
    "id": "QiGqOvPPzWpp"
   },
   "outputs": [],
   "source": [
    "selected_stopwords = english_stopwords[:709]"
   ]
  },
  {
   "cell_type": "code",
   "execution_count": 38,
   "metadata": {
    "executionInfo": {
     "elapsed": 525,
     "status": "ok",
     "timestamp": 1668785435341,
     "user": {
      "displayName": "Sanket Patel",
      "userId": "04819273699461657041"
     },
     "user_tz": -330
    },
    "id": "Tu_garEvesta"
   },
   "outputs": [],
   "source": [
    "vectorizer = TfidfVectorizer(tokenizer = tokenize,\n",
    "                             stop_words=selected_stopwords,\n",
    "                            ngram_range=(1,2),\n",
    "                             max_features=4000)"
   ]
  },
  {
   "cell_type": "code",
   "execution_count": 39,
   "metadata": {
    "colab": {
     "base_uri": "https://localhost:8080/"
    },
    "executionInfo": {
     "elapsed": 32259,
     "status": "ok",
     "timestamp": 1668785469475,
     "user": {
      "displayName": "Sanket Patel",
      "userId": "04819273699461657041"
     },
     "user_tz": -330
    },
    "id": "Xl-NWRL4esq8",
    "outputId": "0782bf97-2be7-4304-dd08-e727b1d08b5b"
   },
   "outputs": [
    {
     "data": {
      "text/plain": [
       "TfidfVectorizer(max_features=4000, ngram_range=(1, 2),\n",
       "                stop_words=['i', 'me', 'my', 'myself', 'we', 'our', 'ours',\n",
       "                            'ourselves', 'you', \"you're\", \"you've\", \"you'll\",\n",
       "                            \"you'd\", 'your', 'yours', 'yourself', 'yourselves',\n",
       "                            'he', 'him', 'his', 'himself', 'she', \"she's\",\n",
       "                            'her', 'hers', 'herself', 'it', \"it's\", 'its',\n",
       "                            'itself', ...],\n",
       "                tokenizer=<function tokenize at 0x7fda06134680>)"
      ]
     },
     "execution_count": 39,
     "metadata": {},
     "output_type": "execute_result"
    }
   ],
   "source": [
    "vectorizer.fit(raw_df.Phrase)"
   ]
  },
  {
   "cell_type": "code",
   "execution_count": 40,
   "metadata": {
    "colab": {
     "base_uri": "https://localhost:8080/"
    },
    "executionInfo": {
     "elapsed": 10,
     "status": "ok",
     "timestamp": 1668785469475,
     "user": {
      "displayName": "Sanket Patel",
      "userId": "04819273699461657041"
     },
     "user_tz": -330
    },
    "id": "7re6Uh_l03vY",
    "outputId": "c00ec34b-1906-45ce-bfc2-6b161ea9a5f5"
   },
   "outputs": [
    {
     "data": {
      "text/plain": [
       "array(['abandon', 'abil', 'abl', 'abov', 'absolut', 'absorb', 'abstract',\n",
       "       'absurd', 'abund', 'abus', 'academi', 'academi award', 'accent',\n",
       "       'accept', 'access', 'acclaim', 'accompani', 'accomplish',\n",
       "       'account', 'accumul', 'accur', 'ach', 'achiev', 'acknowledg',\n",
       "       'acquir', 'across', 'act', 'act like', 'action', 'action film',\n",
       "       'action flick', 'action hero', 'action movi', 'action sequenc',\n",
       "       'activ', 'actor', 'actress', 'actual', 'ad', 'adam',\n",
       "       'adam sandler', 'adapt', 'add', 'addict', 'addit', 'address',\n",
       "       'adequ', 'adher', 'admir', 'admit', 'adolesc', 'ador', 'adrenalin',\n",
       "       'adult', 'advanc', 'advantag', 'adventur', 'advic', 'aesthet',\n",
       "       'affair', 'affect', 'affirm', 'afraid', 'african', 'afternoon',\n",
       "       'age', 'agent', 'aggress', 'ago', 'ah', 'ahead', 'ai', 'aid',\n",
       "       'aim', 'aimless', 'air', 'aisl', 'alabama', 'albeit', 'album',\n",
       "       'alert', 'alic', 'alien', 'aliv', 'alleg', 'allegori', 'allen',\n",
       "       'allow', 'allow us', 'almost', 'almost everi', 'alon', 'along',\n",
       "       'alreadi', 'alreadi seen', 'also', 'also one', 'alter', 'altern',\n",
       "       'although', 'altogeth', 'alway', 'amateurish', 'amaz', 'ambigu',\n",
       "       'ambit', 'ambiti', 'america', 'american', 'american beauti',\n",
       "       'american pie', 'ami', 'amiabl', 'among', 'amount', 'amus',\n",
       "       'anachronist', 'analyz', 'anchor', 'ancient', 'anderson', 'angel',\n",
       "       'anger', 'angl', 'angri', 'angst', 'anguish', 'ani', 'ani film',\n",
       "       'ani good', 'ani insight', 'ani less', 'ani movi', 'ani real',\n",
       "       'ani recent', 'anim', 'anim hous', 'ann', 'ann rice', 'annal',\n",
       "       'annoy', 'anomi', 'anonym', 'anoth', 'anoth day', 'answer', 'ant',\n",
       "       'anthoni', 'antic', 'anticip', 'antonia', 'antwon',\n",
       "       'antwon fisher', 'anybodi', 'anyon', 'anyon els', 'anyth',\n",
       "       'anyth realli', 'anyway', 'anywher', 'apart', 'aplomb', 'appal',\n",
       "       'appar', 'appeal', 'appear', 'appli', 'appreci', 'approach',\n",
       "       'appropri', 'arc', 'archiv', 'area', 'argentin', 'argu',\n",
       "       'argument', 'aristocrat', 'arm', 'arnold', 'around', 'arrest',\n",
       "       'arriv', 'art', 'art hous', 'articul', 'artific', 'artifici',\n",
       "       'artist', 'artistri', 'artsi', 'asian', 'asid', 'ask', 'aspect',\n",
       "       'aspir', 'assassin', 'assault', 'assembl', 'associ', 'assum'],\n",
       "      dtype=object)"
      ]
     },
     "execution_count": 40,
     "metadata": {},
     "output_type": "execute_result"
    }
   ],
   "source": [
    "vectorizer.get_feature_names_out()[:200]"
   ]
  },
  {
   "cell_type": "code",
   "execution_count": 41,
   "metadata": {
    "executionInfo": {
     "elapsed": 27313,
     "status": "ok",
     "timestamp": 1668785496784,
     "user": {
      "displayName": "Sanket Patel",
      "userId": "04819273699461657041"
     },
     "user_tz": -330
    },
    "id": "PmPLT4Lf0uFT"
   },
   "outputs": [],
   "source": [
    "inputs = vectorizer.transform(raw_df.Phrase)"
   ]
  },
  {
   "cell_type": "code",
   "execution_count": 42,
   "metadata": {
    "colab": {
     "base_uri": "https://localhost:8080/"
    },
    "executionInfo": {
     "elapsed": 5,
     "status": "ok",
     "timestamp": 1668785496784,
     "user": {
      "displayName": "Sanket Patel",
      "userId": "04819273699461657041"
     },
     "user_tz": -330
    },
    "id": "7wQ4BQsR1lNg",
    "outputId": "4c2e5ce1-6fd9-4a2c-c17e-4bb5b9354bde"
   },
   "outputs": [
    {
     "data": {
      "text/plain": [
       "(156060, 4000)"
      ]
     },
     "execution_count": 42,
     "metadata": {},
     "output_type": "execute_result"
    }
   ],
   "source": [
    "inputs.shape"
   ]
  },
  {
   "cell_type": "code",
   "execution_count": 43,
   "metadata": {
    "colab": {
     "base_uri": "https://localhost:8080/"
    },
    "executionInfo": {
     "elapsed": 3248,
     "status": "ok",
     "timestamp": 1668785500029,
     "user": {
      "displayName": "Sanket Patel",
      "userId": "04819273699461657041"
     },
     "user_tz": -330
    },
    "id": "BYshe-Mq0ciZ",
    "outputId": "a66b3708-b4ba-4642-c318-5563afad192b"
   },
   "outputs": [
    {
     "data": {
      "text/plain": [
       "array([0.        , 0.        , 0.        , 0.        , 0.        ,\n",
       "       0.        , 0.        , 0.        , 0.        , 0.        ,\n",
       "       0.        , 0.        , 0.        , 0.        , 0.        ,\n",
       "       0.        , 0.        , 0.        , 0.        , 0.        ,\n",
       "       0.        , 0.        , 0.        , 0.        , 0.        ,\n",
       "       0.        , 0.        , 0.        , 0.        , 0.        ,\n",
       "       0.        , 0.        , 0.        , 0.        , 0.        ,\n",
       "       0.        , 0.        , 0.        , 0.        , 0.        ,\n",
       "       0.        , 0.        , 0.        , 0.        , 0.        ,\n",
       "       0.        , 0.        , 0.        , 0.        , 0.        ,\n",
       "       0.        , 0.        , 0.        , 0.        , 0.        ,\n",
       "       0.        , 0.        , 0.        , 0.        , 0.        ,\n",
       "       0.        , 0.        , 0.        , 0.        , 0.        ,\n",
       "       0.        , 0.        , 0.        , 0.        , 0.        ,\n",
       "       0.        , 0.        , 0.        , 0.        , 0.        ,\n",
       "       0.        , 0.        , 0.        , 0.        , 0.        ,\n",
       "       0.        , 0.        , 0.        , 0.        , 0.        ,\n",
       "       0.        , 0.        , 0.        , 0.        , 0.        ,\n",
       "       0.        , 0.        , 0.        , 0.        , 0.        ,\n",
       "       0.25633357, 0.        , 0.        , 0.        , 0.        ])"
      ]
     },
     "execution_count": 43,
     "metadata": {},
     "output_type": "execute_result"
    }
   ],
   "source": [
    "inputs.toarray()[0][:100]"
   ]
  },
  {
   "cell_type": "markdown",
   "metadata": {
    "id": "mUIfdqBU3trj"
   },
   "source": [
    "### Transform Training & Test Data\n",
    "\n",
    "* Transform phrases from training set\n",
    "* Transform phrases from test set\n",
    "* Look at some example values"
   ]
  },
  {
   "cell_type": "code",
   "execution_count": 44,
   "metadata": {
    "colab": {
     "base_uri": "https://localhost:8080/",
     "height": 206
    },
    "executionInfo": {
     "elapsed": 7,
     "status": "ok",
     "timestamp": 1668785500029,
     "user": {
      "displayName": "Sanket Patel",
      "userId": "04819273699461657041"
     },
     "user_tz": -330
    },
    "id": "ZKyfmi5A3vji",
    "outputId": "699aad8f-409e-443d-df07-144852ff844e"
   },
   "outputs": [
    {
     "data": {
      "text/html": [
       "\n",
       "  <div id=\"df-fa1f54d5-8b9f-46bc-a71c-a3faf7a81edc\">\n",
       "    <div class=\"colab-df-container\">\n",
       "      <div>\n",
       "<style scoped>\n",
       "    .dataframe tbody tr th:only-of-type {\n",
       "        vertical-align: middle;\n",
       "    }\n",
       "\n",
       "    .dataframe tbody tr th {\n",
       "        vertical-align: top;\n",
       "    }\n",
       "\n",
       "    .dataframe thead th {\n",
       "        text-align: right;\n",
       "    }\n",
       "</style>\n",
       "<table border=\"1\" class=\"dataframe\">\n",
       "  <thead>\n",
       "    <tr style=\"text-align: right;\">\n",
       "      <th></th>\n",
       "      <th>PhraseId</th>\n",
       "      <th>SentenceId</th>\n",
       "      <th>Phrase</th>\n",
       "    </tr>\n",
       "  </thead>\n",
       "  <tbody>\n",
       "    <tr>\n",
       "      <th>7384</th>\n",
       "      <td>163445</td>\n",
       "      <td>8834</td>\n",
       "      <td>monument</td>\n",
       "    </tr>\n",
       "    <tr>\n",
       "      <th>54928</th>\n",
       "      <td>210989</td>\n",
       "      <td>11221</td>\n",
       "      <td>High on melodrama .</td>\n",
       "    </tr>\n",
       "    <tr>\n",
       "      <th>43749</th>\n",
       "      <td>199810</td>\n",
       "      <td>10629</td>\n",
       "      <td>Baran is n't the most transporting or gripping...</td>\n",
       "    </tr>\n",
       "    <tr>\n",
       "      <th>47938</th>\n",
       "      <td>203999</td>\n",
       "      <td>10849</td>\n",
       "      <td>of hearts</td>\n",
       "    </tr>\n",
       "    <tr>\n",
       "      <th>1793</th>\n",
       "      <td>157854</td>\n",
       "      <td>8604</td>\n",
       "      <td>a movie</td>\n",
       "    </tr>\n",
       "  </tbody>\n",
       "</table>\n",
       "</div>\n",
       "      <button class=\"colab-df-convert\" onclick=\"convertToInteractive('df-fa1f54d5-8b9f-46bc-a71c-a3faf7a81edc')\"\n",
       "              title=\"Convert this dataframe to an interactive table.\"\n",
       "              style=\"display:none;\">\n",
       "        \n",
       "  <svg xmlns=\"http://www.w3.org/2000/svg\" height=\"24px\"viewBox=\"0 0 24 24\"\n",
       "       width=\"24px\">\n",
       "    <path d=\"M0 0h24v24H0V0z\" fill=\"none\"/>\n",
       "    <path d=\"M18.56 5.44l.94 2.06.94-2.06 2.06-.94-2.06-.94-.94-2.06-.94 2.06-2.06.94zm-11 1L8.5 8.5l.94-2.06 2.06-.94-2.06-.94L8.5 2.5l-.94 2.06-2.06.94zm10 10l.94 2.06.94-2.06 2.06-.94-2.06-.94-.94-2.06-.94 2.06-2.06.94z\"/><path d=\"M17.41 7.96l-1.37-1.37c-.4-.4-.92-.59-1.43-.59-.52 0-1.04.2-1.43.59L10.3 9.45l-7.72 7.72c-.78.78-.78 2.05 0 2.83L4 21.41c.39.39.9.59 1.41.59.51 0 1.02-.2 1.41-.59l7.78-7.78 2.81-2.81c.8-.78.8-2.07 0-2.86zM5.41 20L4 18.59l7.72-7.72 1.47 1.35L5.41 20z\"/>\n",
       "  </svg>\n",
       "      </button>\n",
       "      \n",
       "  <style>\n",
       "    .colab-df-container {\n",
       "      display:flex;\n",
       "      flex-wrap:wrap;\n",
       "      gap: 12px;\n",
       "    }\n",
       "\n",
       "    .colab-df-convert {\n",
       "      background-color: #E8F0FE;\n",
       "      border: none;\n",
       "      border-radius: 50%;\n",
       "      cursor: pointer;\n",
       "      display: none;\n",
       "      fill: #1967D2;\n",
       "      height: 32px;\n",
       "      padding: 0 0 0 0;\n",
       "      width: 32px;\n",
       "    }\n",
       "\n",
       "    .colab-df-convert:hover {\n",
       "      background-color: #E2EBFA;\n",
       "      box-shadow: 0px 1px 2px rgba(60, 64, 67, 0.3), 0px 1px 3px 1px rgba(60, 64, 67, 0.15);\n",
       "      fill: #174EA6;\n",
       "    }\n",
       "\n",
       "    [theme=dark] .colab-df-convert {\n",
       "      background-color: #3B4455;\n",
       "      fill: #D2E3FC;\n",
       "    }\n",
       "\n",
       "    [theme=dark] .colab-df-convert:hover {\n",
       "      background-color: #434B5C;\n",
       "      box-shadow: 0px 1px 3px 1px rgba(0, 0, 0, 0.15);\n",
       "      filter: drop-shadow(0px 1px 2px rgba(0, 0, 0, 0.3));\n",
       "      fill: #FFFFFF;\n",
       "    }\n",
       "  </style>\n",
       "\n",
       "      <script>\n",
       "        const buttonEl =\n",
       "          document.querySelector('#df-fa1f54d5-8b9f-46bc-a71c-a3faf7a81edc button.colab-df-convert');\n",
       "        buttonEl.style.display =\n",
       "          google.colab.kernel.accessAllowed ? 'block' : 'none';\n",
       "\n",
       "        async function convertToInteractive(key) {\n",
       "          const element = document.querySelector('#df-fa1f54d5-8b9f-46bc-a71c-a3faf7a81edc');\n",
       "          const dataTable =\n",
       "            await google.colab.kernel.invokeFunction('convertToInteractive',\n",
       "                                                     [key], {});\n",
       "          if (!dataTable) return;\n",
       "\n",
       "          const docLinkHtml = 'Like what you see? Visit the ' +\n",
       "            '<a target=\"_blank\" href=https://colab.research.google.com/notebooks/data_table.ipynb>data table notebook</a>'\n",
       "            + ' to learn more about interactive tables.';\n",
       "          element.innerHTML = '';\n",
       "          dataTable['output_type'] = 'display_data';\n",
       "          await google.colab.output.renderOutput(dataTable, element);\n",
       "          const docLink = document.createElement('div');\n",
       "          docLink.innerHTML = docLinkHtml;\n",
       "          element.appendChild(docLink);\n",
       "        }\n",
       "      </script>\n",
       "    </div>\n",
       "  </div>\n",
       "  "
      ],
      "text/plain": [
       "       PhraseId  SentenceId                                             Phrase\n",
       "7384     163445        8834                                           monument\n",
       "54928    210989       11221                                High on melodrama .\n",
       "43749    199810       10629  Baran is n't the most transporting or gripping...\n",
       "47938    203999       10849                                          of hearts\n",
       "1793     157854        8604                                            a movie"
      ]
     },
     "execution_count": 44,
     "metadata": {},
     "output_type": "execute_result"
    }
   ],
   "source": [
    "test_df.sample(5)"
   ]
  },
  {
   "cell_type": "code",
   "execution_count": 45,
   "metadata": {
    "executionInfo": {
     "elapsed": 11450,
     "status": "ok",
     "timestamp": 1668785511474,
     "user": {
      "displayName": "Sanket Patel",
      "userId": "04819273699461657041"
     },
     "user_tz": -330
    },
    "id": "5quhtu9Q2I1s"
   },
   "outputs": [],
   "source": [
    "test_inputs = vectorizer.transform(test_df.Phrase)"
   ]
  },
  {
   "cell_type": "code",
   "execution_count": 46,
   "metadata": {
    "colab": {
     "base_uri": "https://localhost:8080/"
    },
    "executionInfo": {
     "elapsed": 16,
     "status": "ok",
     "timestamp": 1668785511475,
     "user": {
      "displayName": "Sanket Patel",
      "userId": "04819273699461657041"
     },
     "user_tz": -330
    },
    "id": "z-90SgIx301M",
    "outputId": "9a179bad-55f8-4ab7-c294-1269ca415027"
   },
   "outputs": [
    {
     "data": {
      "text/plain": [
       "(66292, 4000)"
      ]
     },
     "execution_count": 46,
     "metadata": {},
     "output_type": "execute_result"
    }
   ],
   "source": [
    "test_inputs.shape"
   ]
  },
  {
   "cell_type": "markdown",
   "metadata": {
    "id": "TwLM4r3EetEK"
   },
   "source": [
    "## Train Baseline Model & Submit to Kaggle\n",
    "\n",
    "1. Split training and validation sets\n",
    "2. Train logistic regression model\n",
    "3. Study predictions on sample phrases\n",
    "4. Make predictions and submit to Kaggle\n",
    "\n",
    "\n"
   ]
  },
  {
   "cell_type": "markdown",
   "metadata": {
    "id": "NAZkydfs4wrX"
   },
   "source": [
    "### Split Training and Validation Sets\n",
    "\n",
    "Tip: Don't use a random sample for validation set (why?)"
   ]
  },
  {
   "cell_type": "code",
   "execution_count": 47,
   "metadata": {
    "executionInfo": {
     "elapsed": 13,
     "status": "ok",
     "timestamp": 1668785511475,
     "user": {
      "displayName": "Sanket Patel",
      "userId": "04819273699461657041"
     },
     "user_tz": -330
    },
    "id": "5SCTufzt4vLe"
   },
   "outputs": [],
   "source": [
    "train_size = 110_000\n",
    "train_inputs = inputs[:train_size]\n",
    "train_targets = raw_df.Sentiment[:train_size]"
   ]
  },
  {
   "cell_type": "code",
   "execution_count": 48,
   "metadata": {
    "colab": {
     "base_uri": "https://localhost:8080/"
    },
    "executionInfo": {
     "elapsed": 14,
     "status": "ok",
     "timestamp": 1668785511476,
     "user": {
      "displayName": "Sanket Patel",
      "userId": "04819273699461657041"
     },
     "user_tz": -330
    },
    "id": "TFq68PPY5Q9q",
    "outputId": "5c4c4ffb-722e-4cee-e272-fd1357657d7e"
   },
   "outputs": [
    {
     "data": {
      "text/plain": [
       "((110000, 4000), (110000,))"
      ]
     },
     "execution_count": 48,
     "metadata": {},
     "output_type": "execute_result"
    }
   ],
   "source": [
    "train_inputs.shape,train_targets.shape"
   ]
  },
  {
   "cell_type": "code",
   "execution_count": 49,
   "metadata": {
    "executionInfo": {
     "elapsed": 10,
     "status": "ok",
     "timestamp": 1668785511476,
     "user": {
      "displayName": "Sanket Patel",
      "userId": "04819273699461657041"
     },
     "user_tz": -330
    },
    "id": "yNuN996G5YdG"
   },
   "outputs": [],
   "source": [
    "val_inputs = inputs[train_size:]\n",
    "val_targets = raw_df.Sentiment[train_size:]"
   ]
  },
  {
   "cell_type": "code",
   "execution_count": 50,
   "metadata": {
    "colab": {
     "base_uri": "https://localhost:8080/"
    },
    "executionInfo": {
     "elapsed": 9,
     "status": "ok",
     "timestamp": 1668785511476,
     "user": {
      "displayName": "Sanket Patel",
      "userId": "04819273699461657041"
     },
     "user_tz": -330
    },
    "id": "2a4gKg3Q5YSL",
    "outputId": "73e25fc0-94d6-4cc0-fc94-5c25a0738f6c"
   },
   "outputs": [
    {
     "data": {
      "text/plain": [
       "((46060, 4000), (46060,))"
      ]
     },
     "execution_count": 50,
     "metadata": {},
     "output_type": "execute_result"
    }
   ],
   "source": [
    "val_inputs.shape,val_targets.shape"
   ]
  },
  {
   "cell_type": "markdown",
   "metadata": {
    "id": "DHoTrGTM5Bo9"
   },
   "source": [
    "### Train Logistic Regression Model\n",
    "\n"
   ]
  },
  {
   "cell_type": "code",
   "execution_count": 51,
   "metadata": {
    "executionInfo": {
     "elapsed": 7,
     "status": "ok",
     "timestamp": 1668785511477,
     "user": {
      "displayName": "Sanket Patel",
      "userId": "04819273699461657041"
     },
     "user_tz": -330
    },
    "id": "jEHCuRAt7swN"
   },
   "outputs": [],
   "source": [
    "model  = LogisticRegression()"
   ]
  },
  {
   "cell_type": "code",
   "execution_count": 52,
   "metadata": {
    "colab": {
     "base_uri": "https://localhost:8080/"
    },
    "executionInfo": {
     "elapsed": 7146,
     "status": "ok",
     "timestamp": 1668785518617,
     "user": {
      "displayName": "Sanket Patel",
      "userId": "04819273699461657041"
     },
     "user_tz": -330
    },
    "id": "7klXZoh-7st2",
    "outputId": "9d582533-fd29-4b0b-b170-a49b8413fb26"
   },
   "outputs": [
    {
     "data": {
      "text/plain": [
       "LogisticRegression()"
      ]
     },
     "execution_count": 52,
     "metadata": {},
     "output_type": "execute_result"
    }
   ],
   "source": [
    "model.fit(train_inputs,train_targets)"
   ]
  },
  {
   "cell_type": "code",
   "execution_count": 53,
   "metadata": {
    "executionInfo": {
     "elapsed": 51,
     "status": "ok",
     "timestamp": 1668785518618,
     "user": {
      "displayName": "Sanket Patel",
      "userId": "04819273699461657041"
     },
     "user_tz": -330
    },
    "id": "THyNzV9J7srO"
   },
   "outputs": [],
   "source": [
    "train_preds = model.predict(train_inputs)"
   ]
  },
  {
   "cell_type": "code",
   "execution_count": 54,
   "metadata": {
    "colab": {
     "base_uri": "https://localhost:8080/"
    },
    "executionInfo": {
     "elapsed": 50,
     "status": "ok",
     "timestamp": 1668785518618,
     "user": {
      "displayName": "Sanket Patel",
      "userId": "04819273699461657041"
     },
     "user_tz": -330
    },
    "id": "FI6mTyaR6i-z",
    "outputId": "b0114466-ed49-4ea0-8e04-76f16f7e0f75"
   },
   "outputs": [
    {
     "data": {
      "text/plain": [
       "0         1\n",
       "1         2\n",
       "2         2\n",
       "3         2\n",
       "4         2\n",
       "         ..\n",
       "109995    1\n",
       "109996    0\n",
       "109997    1\n",
       "109998    0\n",
       "109999    2\n",
       "Name: Sentiment, Length: 110000, dtype: int64"
      ]
     },
     "execution_count": 54,
     "metadata": {},
     "output_type": "execute_result"
    }
   ],
   "source": [
    "train_targets"
   ]
  },
  {
   "cell_type": "code",
   "execution_count": 55,
   "metadata": {
    "colab": {
     "base_uri": "https://localhost:8080/"
    },
    "executionInfo": {
     "elapsed": 50,
     "status": "ok",
     "timestamp": 1668785518619,
     "user": {
      "displayName": "Sanket Patel",
      "userId": "04819273699461657041"
     },
     "user_tz": -330
    },
    "id": "qQ0HAnwP8k1S",
    "outputId": "7fadf835-1398-4518-abf8-9b34703f1a1b"
   },
   "outputs": [
    {
     "data": {
      "text/plain": [
       "array([3, 2, 2, ..., 0, 0, 2])"
      ]
     },
     "execution_count": 55,
     "metadata": {},
     "output_type": "execute_result"
    }
   ],
   "source": [
    "train_preds"
   ]
  },
  {
   "cell_type": "code",
   "execution_count": 56,
   "metadata": {
    "colab": {
     "base_uri": "https://localhost:8080/"
    },
    "executionInfo": {
     "elapsed": 45,
     "status": "ok",
     "timestamp": 1668785518619,
     "user": {
      "displayName": "Sanket Patel",
      "userId": "04819273699461657041"
     },
     "user_tz": -330
    },
    "id": "_9wZLI9i4rlB",
    "outputId": "42247d4b-6be4-4790-d45e-03891d45c3af"
   },
   "outputs": [
    {
     "data": {
      "text/plain": [
       "0.6546909090909091"
      ]
     },
     "execution_count": 56,
     "metadata": {},
     "output_type": "execute_result"
    }
   ],
   "source": [
    "accuracy_score(train_targets,train_preds)"
   ]
  },
  {
   "cell_type": "code",
   "execution_count": 57,
   "metadata": {
    "executionInfo": {
     "elapsed": 43,
     "status": "ok",
     "timestamp": 1668785518619,
     "user": {
      "displayName": "Sanket Patel",
      "userId": "04819273699461657041"
     },
     "user_tz": -330
    },
    "id": "FnALsBHr4aQt"
   },
   "outputs": [],
   "source": [
    "val_preds = model.predict(val_inputs)"
   ]
  },
  {
   "cell_type": "code",
   "execution_count": 58,
   "metadata": {
    "colab": {
     "base_uri": "https://localhost:8080/"
    },
    "executionInfo": {
     "elapsed": 43,
     "status": "ok",
     "timestamp": 1668785518620,
     "user": {
      "displayName": "Sanket Patel",
      "userId": "04819273699461657041"
     },
     "user_tz": -330
    },
    "id": "EF8dHyrF4S3R",
    "outputId": "25e7b1b2-8d57-4517-b511-6961476231ae"
   },
   "outputs": [
    {
     "data": {
      "text/plain": [
       "0.5790490664350847"
      ]
     },
     "execution_count": 58,
     "metadata": {},
     "output_type": "execute_result"
    }
   ],
   "source": [
    "accuracy_score(val_targets,val_preds)"
   ]
  },
  {
   "cell_type": "markdown",
   "metadata": {
    "id": "RS2HgpkL_J0G"
   },
   "source": [
    "### Study Predictions on Sample Inputs"
   ]
  },
  {
   "cell_type": "code",
   "execution_count": 59,
   "metadata": {
    "executionInfo": {
     "elapsed": 40,
     "status": "ok",
     "timestamp": 1668785518620,
     "user": {
      "displayName": "Sanket Patel",
      "userId": "04819273699461657041"
     },
     "user_tz": -330
    },
    "id": "Kvb-G3EU-3sD"
   },
   "outputs": [],
   "source": [
    "small_df = raw_df.sample(20)"
   ]
  },
  {
   "cell_type": "code",
   "execution_count": 60,
   "metadata": {
    "colab": {
     "base_uri": "https://localhost:8080/",
     "height": 676
    },
    "executionInfo": {
     "elapsed": 40,
     "status": "ok",
     "timestamp": 1668785518621,
     "user": {
      "displayName": "Sanket Patel",
      "userId": "04819273699461657041"
     },
     "user_tz": -330
    },
    "id": "96pSFU6Q-3m_",
    "outputId": "5464701b-e07d-4b11-ca21-145a5ddf691d"
   },
   "outputs": [
    {
     "data": {
      "text/html": [
       "\n",
       "  <div id=\"df-45fa6cb1-22dd-48c6-bf45-deea687fd55b\">\n",
       "    <div class=\"colab-df-container\">\n",
       "      <div>\n",
       "<style scoped>\n",
       "    .dataframe tbody tr th:only-of-type {\n",
       "        vertical-align: middle;\n",
       "    }\n",
       "\n",
       "    .dataframe tbody tr th {\n",
       "        vertical-align: top;\n",
       "    }\n",
       "\n",
       "    .dataframe thead th {\n",
       "        text-align: right;\n",
       "    }\n",
       "</style>\n",
       "<table border=\"1\" class=\"dataframe\">\n",
       "  <thead>\n",
       "    <tr style=\"text-align: right;\">\n",
       "      <th></th>\n",
       "      <th>PhraseId</th>\n",
       "      <th>SentenceId</th>\n",
       "      <th>Phrase</th>\n",
       "      <th>Sentiment</th>\n",
       "    </tr>\n",
       "  </thead>\n",
       "  <tbody>\n",
       "    <tr>\n",
       "      <th>18871</th>\n",
       "      <td>18872</td>\n",
       "      <td>828</td>\n",
       "      <td>like a year late</td>\n",
       "      <td>2</td>\n",
       "    </tr>\n",
       "    <tr>\n",
       "      <th>126562</th>\n",
       "      <td>126563</td>\n",
       "      <td>6805</td>\n",
       "      <td>snail-like</td>\n",
       "      <td>1</td>\n",
       "    </tr>\n",
       "    <tr>\n",
       "      <th>29270</th>\n",
       "      <td>29271</td>\n",
       "      <td>1356</td>\n",
       "      <td>Does a good job of establishing a time and pla...</td>\n",
       "      <td>3</td>\n",
       "    </tr>\n",
       "    <tr>\n",
       "      <th>123332</th>\n",
       "      <td>123333</td>\n",
       "      <td>6619</td>\n",
       "      <td>much funnier than anything</td>\n",
       "      <td>3</td>\n",
       "    </tr>\n",
       "    <tr>\n",
       "      <th>142398</th>\n",
       "      <td>142399</td>\n",
       "      <td>7727</td>\n",
       "      <td>outtakes in which most of the characters forge...</td>\n",
       "      <td>1</td>\n",
       "    </tr>\n",
       "    <tr>\n",
       "      <th>36936</th>\n",
       "      <td>36937</td>\n",
       "      <td>1750</td>\n",
       "      <td>, Treasure Planet is truly gorgeous to behold .</td>\n",
       "      <td>4</td>\n",
       "    </tr>\n",
       "    <tr>\n",
       "      <th>98890</th>\n",
       "      <td>98891</td>\n",
       "      <td>5187</td>\n",
       "      <td>gaping enough to pilot an entire Olympic swim ...</td>\n",
       "      <td>2</td>\n",
       "    </tr>\n",
       "    <tr>\n",
       "      <th>113357</th>\n",
       "      <td>113358</td>\n",
       "      <td>6023</td>\n",
       "      <td>sucking</td>\n",
       "      <td>1</td>\n",
       "    </tr>\n",
       "    <tr>\n",
       "      <th>109525</th>\n",
       "      <td>109526</td>\n",
       "      <td>5801</td>\n",
       "      <td>artistic merits</td>\n",
       "      <td>3</td>\n",
       "    </tr>\n",
       "    <tr>\n",
       "      <th>117957</th>\n",
       "      <td>117958</td>\n",
       "      <td>6301</td>\n",
       "      <td>A movie so bad that it quickly enters the pant...</td>\n",
       "      <td>2</td>\n",
       "    </tr>\n",
       "    <tr>\n",
       "      <th>127796</th>\n",
       "      <td>127797</td>\n",
       "      <td>6873</td>\n",
       "      <td>reward</td>\n",
       "      <td>3</td>\n",
       "    </tr>\n",
       "    <tr>\n",
       "      <th>104752</th>\n",
       "      <td>104753</td>\n",
       "      <td>5532</td>\n",
       "      <td>the buoyant energy level</td>\n",
       "      <td>3</td>\n",
       "    </tr>\n",
       "    <tr>\n",
       "      <th>151505</th>\n",
       "      <td>151506</td>\n",
       "      <td>8263</td>\n",
       "      <td>, the movie will likely set the cause of woman...</td>\n",
       "      <td>1</td>\n",
       "    </tr>\n",
       "    <tr>\n",
       "      <th>76025</th>\n",
       "      <td>76026</td>\n",
       "      <td>3900</td>\n",
       "      <td>bleakness</td>\n",
       "      <td>2</td>\n",
       "    </tr>\n",
       "    <tr>\n",
       "      <th>51051</th>\n",
       "      <td>51052</td>\n",
       "      <td>2513</td>\n",
       "      <td>were fulfilling a gross-out quota for an antic...</td>\n",
       "      <td>1</td>\n",
       "    </tr>\n",
       "    <tr>\n",
       "      <th>89594</th>\n",
       "      <td>89595</td>\n",
       "      <td>4660</td>\n",
       "      <td>is patient</td>\n",
       "      <td>2</td>\n",
       "    </tr>\n",
       "    <tr>\n",
       "      <th>46045</th>\n",
       "      <td>46046</td>\n",
       "      <td>2238</td>\n",
       "      <td>self-mutilating</td>\n",
       "      <td>1</td>\n",
       "    </tr>\n",
       "    <tr>\n",
       "      <th>118444</th>\n",
       "      <td>118445</td>\n",
       "      <td>6328</td>\n",
       "      <td>that no embellishment is</td>\n",
       "      <td>2</td>\n",
       "    </tr>\n",
       "    <tr>\n",
       "      <th>150761</th>\n",
       "      <td>150762</td>\n",
       "      <td>8217</td>\n",
       "      <td>a superior movie</td>\n",
       "      <td>4</td>\n",
       "    </tr>\n",
       "    <tr>\n",
       "      <th>18286</th>\n",
       "      <td>18287</td>\n",
       "      <td>798</td>\n",
       "      <td>as acceptable</td>\n",
       "      <td>2</td>\n",
       "    </tr>\n",
       "  </tbody>\n",
       "</table>\n",
       "</div>\n",
       "      <button class=\"colab-df-convert\" onclick=\"convertToInteractive('df-45fa6cb1-22dd-48c6-bf45-deea687fd55b')\"\n",
       "              title=\"Convert this dataframe to an interactive table.\"\n",
       "              style=\"display:none;\">\n",
       "        \n",
       "  <svg xmlns=\"http://www.w3.org/2000/svg\" height=\"24px\"viewBox=\"0 0 24 24\"\n",
       "       width=\"24px\">\n",
       "    <path d=\"M0 0h24v24H0V0z\" fill=\"none\"/>\n",
       "    <path d=\"M18.56 5.44l.94 2.06.94-2.06 2.06-.94-2.06-.94-.94-2.06-.94 2.06-2.06.94zm-11 1L8.5 8.5l.94-2.06 2.06-.94-2.06-.94L8.5 2.5l-.94 2.06-2.06.94zm10 10l.94 2.06.94-2.06 2.06-.94-2.06-.94-.94-2.06-.94 2.06-2.06.94z\"/><path d=\"M17.41 7.96l-1.37-1.37c-.4-.4-.92-.59-1.43-.59-.52 0-1.04.2-1.43.59L10.3 9.45l-7.72 7.72c-.78.78-.78 2.05 0 2.83L4 21.41c.39.39.9.59 1.41.59.51 0 1.02-.2 1.41-.59l7.78-7.78 2.81-2.81c.8-.78.8-2.07 0-2.86zM5.41 20L4 18.59l7.72-7.72 1.47 1.35L5.41 20z\"/>\n",
       "  </svg>\n",
       "      </button>\n",
       "      \n",
       "  <style>\n",
       "    .colab-df-container {\n",
       "      display:flex;\n",
       "      flex-wrap:wrap;\n",
       "      gap: 12px;\n",
       "    }\n",
       "\n",
       "    .colab-df-convert {\n",
       "      background-color: #E8F0FE;\n",
       "      border: none;\n",
       "      border-radius: 50%;\n",
       "      cursor: pointer;\n",
       "      display: none;\n",
       "      fill: #1967D2;\n",
       "      height: 32px;\n",
       "      padding: 0 0 0 0;\n",
       "      width: 32px;\n",
       "    }\n",
       "\n",
       "    .colab-df-convert:hover {\n",
       "      background-color: #E2EBFA;\n",
       "      box-shadow: 0px 1px 2px rgba(60, 64, 67, 0.3), 0px 1px 3px 1px rgba(60, 64, 67, 0.15);\n",
       "      fill: #174EA6;\n",
       "    }\n",
       "\n",
       "    [theme=dark] .colab-df-convert {\n",
       "      background-color: #3B4455;\n",
       "      fill: #D2E3FC;\n",
       "    }\n",
       "\n",
       "    [theme=dark] .colab-df-convert:hover {\n",
       "      background-color: #434B5C;\n",
       "      box-shadow: 0px 1px 3px 1px rgba(0, 0, 0, 0.15);\n",
       "      filter: drop-shadow(0px 1px 2px rgba(0, 0, 0, 0.3));\n",
       "      fill: #FFFFFF;\n",
       "    }\n",
       "  </style>\n",
       "\n",
       "      <script>\n",
       "        const buttonEl =\n",
       "          document.querySelector('#df-45fa6cb1-22dd-48c6-bf45-deea687fd55b button.colab-df-convert');\n",
       "        buttonEl.style.display =\n",
       "          google.colab.kernel.accessAllowed ? 'block' : 'none';\n",
       "\n",
       "        async function convertToInteractive(key) {\n",
       "          const element = document.querySelector('#df-45fa6cb1-22dd-48c6-bf45-deea687fd55b');\n",
       "          const dataTable =\n",
       "            await google.colab.kernel.invokeFunction('convertToInteractive',\n",
       "                                                     [key], {});\n",
       "          if (!dataTable) return;\n",
       "\n",
       "          const docLinkHtml = 'Like what you see? Visit the ' +\n",
       "            '<a target=\"_blank\" href=https://colab.research.google.com/notebooks/data_table.ipynb>data table notebook</a>'\n",
       "            + ' to learn more about interactive tables.';\n",
       "          element.innerHTML = '';\n",
       "          dataTable['output_type'] = 'display_data';\n",
       "          await google.colab.output.renderOutput(dataTable, element);\n",
       "          const docLink = document.createElement('div');\n",
       "          docLink.innerHTML = docLinkHtml;\n",
       "          element.appendChild(docLink);\n",
       "        }\n",
       "      </script>\n",
       "    </div>\n",
       "  </div>\n",
       "  "
      ],
      "text/plain": [
       "        PhraseId  SentenceId  \\\n",
       "18871      18872         828   \n",
       "126562    126563        6805   \n",
       "29270      29271        1356   \n",
       "123332    123333        6619   \n",
       "142398    142399        7727   \n",
       "36936      36937        1750   \n",
       "98890      98891        5187   \n",
       "113357    113358        6023   \n",
       "109525    109526        5801   \n",
       "117957    117958        6301   \n",
       "127796    127797        6873   \n",
       "104752    104753        5532   \n",
       "151505    151506        8263   \n",
       "76025      76026        3900   \n",
       "51051      51052        2513   \n",
       "89594      89595        4660   \n",
       "46045      46046        2238   \n",
       "118444    118445        6328   \n",
       "150761    150762        8217   \n",
       "18286      18287         798   \n",
       "\n",
       "                                                   Phrase  Sentiment  \n",
       "18871                                    like a year late          2  \n",
       "126562                                         snail-like          1  \n",
       "29270   Does a good job of establishing a time and pla...          3  \n",
       "123332                         much funnier than anything          3  \n",
       "142398  outtakes in which most of the characters forge...          1  \n",
       "36936     , Treasure Planet is truly gorgeous to behold .          4  \n",
       "98890   gaping enough to pilot an entire Olympic swim ...          2  \n",
       "113357                                            sucking          1  \n",
       "109525                                    artistic merits          3  \n",
       "117957  A movie so bad that it quickly enters the pant...          2  \n",
       "127796                                             reward          3  \n",
       "104752                           the buoyant energy level          3  \n",
       "151505  , the movie will likely set the cause of woman...          1  \n",
       "76025                                           bleakness          2  \n",
       "51051   were fulfilling a gross-out quota for an antic...          1  \n",
       "89594                                          is patient          2  \n",
       "46045                                     self-mutilating          1  \n",
       "118444                           that no embellishment is          2  \n",
       "150761                                   a superior movie          4  \n",
       "18286                                       as acceptable          2  "
      ]
     },
     "execution_count": 60,
     "metadata": {},
     "output_type": "execute_result"
    }
   ],
   "source": [
    "small_df"
   ]
  },
  {
   "cell_type": "code",
   "execution_count": 61,
   "metadata": {
    "executionInfo": {
     "elapsed": 40,
     "status": "ok",
     "timestamp": 1668785518622,
     "user": {
      "displayName": "Sanket Patel",
      "userId": "04819273699461657041"
     },
     "user_tz": -330
    },
    "id": "FRlyVDpu_ARh"
   },
   "outputs": [],
   "source": [
    "small_inputs = vectorizer.transform(small_df.Phrase)"
   ]
  },
  {
   "cell_type": "code",
   "execution_count": 62,
   "metadata": {
    "colab": {
     "base_uri": "https://localhost:8080/"
    },
    "executionInfo": {
     "elapsed": 40,
     "status": "ok",
     "timestamp": 1668785518622,
     "user": {
      "displayName": "Sanket Patel",
      "userId": "04819273699461657041"
     },
     "user_tz": -330
    },
    "id": "SVX3fbskDyGs",
    "outputId": "5f1493d3-abcd-41f8-b6b7-1743451ad250"
   },
   "outputs": [
    {
     "data": {
      "text/plain": [
       "(20, 4000)"
      ]
     },
     "execution_count": 62,
     "metadata": {},
     "output_type": "execute_result"
    }
   ],
   "source": [
    "small_inputs.shape"
   ]
  },
  {
   "cell_type": "code",
   "execution_count": 63,
   "metadata": {
    "executionInfo": {
     "elapsed": 37,
     "status": "ok",
     "timestamp": 1668785518622,
     "user": {
      "displayName": "Sanket Patel",
      "userId": "04819273699461657041"
     },
     "user_tz": -330
    },
    "id": "uUgkh-zfD1HI"
   },
   "outputs": [],
   "source": [
    "small_preds = model.predict(small_inputs)"
   ]
  },
  {
   "cell_type": "code",
   "execution_count": 64,
   "metadata": {
    "colab": {
     "base_uri": "https://localhost:8080/"
    },
    "executionInfo": {
     "elapsed": 38,
     "status": "ok",
     "timestamp": 1668785518623,
     "user": {
      "displayName": "Sanket Patel",
      "userId": "04819273699461657041"
     },
     "user_tz": -330
    },
    "id": "urtcbsfd_AO0",
    "outputId": "a10a686d-85cc-4837-8980-48fd3a8bab41"
   },
   "outputs": [
    {
     "data": {
      "text/plain": [
       "array([2, 2, 3, 2, 2, 4, 2, 2, 2, 0, 3, 3, 2, 1, 1, 2, 2, 2, 4, 2])"
      ]
     },
     "execution_count": 64,
     "metadata": {},
     "output_type": "execute_result"
    }
   ],
   "source": [
    "small_preds"
   ]
  },
  {
   "cell_type": "markdown",
   "metadata": {
    "id": "HkiqfeBneyth"
   },
   "source": [
    "### Make Predictions & Submit to Kaggle\n",
    "\n",
    "1. Make predictions on Test Dataset\n",
    "2. Generate & submit CSV on Kaggle\n",
    "3. Add screenshot of your score \n",
    "\n"
   ]
  },
  {
   "cell_type": "code",
   "execution_count": 65,
   "metadata": {
    "colab": {
     "base_uri": "https://localhost:8080/",
     "height": 206
    },
    "executionInfo": {
     "elapsed": 34,
     "status": "ok",
     "timestamp": 1668785518623,
     "user": {
      "displayName": "Sanket Patel",
      "userId": "04819273699461657041"
     },
     "user_tz": -330
    },
    "id": "_Ue7pIO69HgE",
    "outputId": "cc8a61b7-dbdd-4780-94dd-aa68b821585f"
   },
   "outputs": [
    {
     "data": {
      "text/html": [
       "\n",
       "  <div id=\"df-00351796-530a-4777-95bc-a772ee8fe1b8\">\n",
       "    <div class=\"colab-df-container\">\n",
       "      <div>\n",
       "<style scoped>\n",
       "    .dataframe tbody tr th:only-of-type {\n",
       "        vertical-align: middle;\n",
       "    }\n",
       "\n",
       "    .dataframe tbody tr th {\n",
       "        vertical-align: top;\n",
       "    }\n",
       "\n",
       "    .dataframe thead th {\n",
       "        text-align: right;\n",
       "    }\n",
       "</style>\n",
       "<table border=\"1\" class=\"dataframe\">\n",
       "  <thead>\n",
       "    <tr style=\"text-align: right;\">\n",
       "      <th></th>\n",
       "      <th>PhraseId</th>\n",
       "      <th>SentenceId</th>\n",
       "      <th>Phrase</th>\n",
       "    </tr>\n",
       "  </thead>\n",
       "  <tbody>\n",
       "    <tr>\n",
       "      <th>27169</th>\n",
       "      <td>183230</td>\n",
       "      <td>9782</td>\n",
       "      <td>charged with the impossible task of making the...</td>\n",
       "    </tr>\n",
       "    <tr>\n",
       "      <th>46560</th>\n",
       "      <td>202621</td>\n",
       "      <td>10773</td>\n",
       "      <td>at times , and lots of fun</td>\n",
       "    </tr>\n",
       "    <tr>\n",
       "      <th>55212</th>\n",
       "      <td>211273</td>\n",
       "      <td>11239</td>\n",
       "      <td>to two completely different</td>\n",
       "    </tr>\n",
       "    <tr>\n",
       "      <th>42556</th>\n",
       "      <td>198617</td>\n",
       "      <td>10561</td>\n",
       "      <td>just another kung-fu sci-fi movie with silly a...</td>\n",
       "    </tr>\n",
       "    <tr>\n",
       "      <th>60386</th>\n",
       "      <td>216447</td>\n",
       "      <td>11532</td>\n",
       "      <td>makes up for in compassion</td>\n",
       "    </tr>\n",
       "  </tbody>\n",
       "</table>\n",
       "</div>\n",
       "      <button class=\"colab-df-convert\" onclick=\"convertToInteractive('df-00351796-530a-4777-95bc-a772ee8fe1b8')\"\n",
       "              title=\"Convert this dataframe to an interactive table.\"\n",
       "              style=\"display:none;\">\n",
       "        \n",
       "  <svg xmlns=\"http://www.w3.org/2000/svg\" height=\"24px\"viewBox=\"0 0 24 24\"\n",
       "       width=\"24px\">\n",
       "    <path d=\"M0 0h24v24H0V0z\" fill=\"none\"/>\n",
       "    <path d=\"M18.56 5.44l.94 2.06.94-2.06 2.06-.94-2.06-.94-.94-2.06-.94 2.06-2.06.94zm-11 1L8.5 8.5l.94-2.06 2.06-.94-2.06-.94L8.5 2.5l-.94 2.06-2.06.94zm10 10l.94 2.06.94-2.06 2.06-.94-2.06-.94-.94-2.06-.94 2.06-2.06.94z\"/><path d=\"M17.41 7.96l-1.37-1.37c-.4-.4-.92-.59-1.43-.59-.52 0-1.04.2-1.43.59L10.3 9.45l-7.72 7.72c-.78.78-.78 2.05 0 2.83L4 21.41c.39.39.9.59 1.41.59.51 0 1.02-.2 1.41-.59l7.78-7.78 2.81-2.81c.8-.78.8-2.07 0-2.86zM5.41 20L4 18.59l7.72-7.72 1.47 1.35L5.41 20z\"/>\n",
       "  </svg>\n",
       "      </button>\n",
       "      \n",
       "  <style>\n",
       "    .colab-df-container {\n",
       "      display:flex;\n",
       "      flex-wrap:wrap;\n",
       "      gap: 12px;\n",
       "    }\n",
       "\n",
       "    .colab-df-convert {\n",
       "      background-color: #E8F0FE;\n",
       "      border: none;\n",
       "      border-radius: 50%;\n",
       "      cursor: pointer;\n",
       "      display: none;\n",
       "      fill: #1967D2;\n",
       "      height: 32px;\n",
       "      padding: 0 0 0 0;\n",
       "      width: 32px;\n",
       "    }\n",
       "\n",
       "    .colab-df-convert:hover {\n",
       "      background-color: #E2EBFA;\n",
       "      box-shadow: 0px 1px 2px rgba(60, 64, 67, 0.3), 0px 1px 3px 1px rgba(60, 64, 67, 0.15);\n",
       "      fill: #174EA6;\n",
       "    }\n",
       "\n",
       "    [theme=dark] .colab-df-convert {\n",
       "      background-color: #3B4455;\n",
       "      fill: #D2E3FC;\n",
       "    }\n",
       "\n",
       "    [theme=dark] .colab-df-convert:hover {\n",
       "      background-color: #434B5C;\n",
       "      box-shadow: 0px 1px 3px 1px rgba(0, 0, 0, 0.15);\n",
       "      filter: drop-shadow(0px 1px 2px rgba(0, 0, 0, 0.3));\n",
       "      fill: #FFFFFF;\n",
       "    }\n",
       "  </style>\n",
       "\n",
       "      <script>\n",
       "        const buttonEl =\n",
       "          document.querySelector('#df-00351796-530a-4777-95bc-a772ee8fe1b8 button.colab-df-convert');\n",
       "        buttonEl.style.display =\n",
       "          google.colab.kernel.accessAllowed ? 'block' : 'none';\n",
       "\n",
       "        async function convertToInteractive(key) {\n",
       "          const element = document.querySelector('#df-00351796-530a-4777-95bc-a772ee8fe1b8');\n",
       "          const dataTable =\n",
       "            await google.colab.kernel.invokeFunction('convertToInteractive',\n",
       "                                                     [key], {});\n",
       "          if (!dataTable) return;\n",
       "\n",
       "          const docLinkHtml = 'Like what you see? Visit the ' +\n",
       "            '<a target=\"_blank\" href=https://colab.research.google.com/notebooks/data_table.ipynb>data table notebook</a>'\n",
       "            + ' to learn more about interactive tables.';\n",
       "          element.innerHTML = '';\n",
       "          dataTable['output_type'] = 'display_data';\n",
       "          await google.colab.output.renderOutput(dataTable, element);\n",
       "          const docLink = document.createElement('div');\n",
       "          docLink.innerHTML = docLinkHtml;\n",
       "          element.appendChild(docLink);\n",
       "        }\n",
       "      </script>\n",
       "    </div>\n",
       "  </div>\n",
       "  "
      ],
      "text/plain": [
       "       PhraseId  SentenceId                                             Phrase\n",
       "27169    183230        9782  charged with the impossible task of making the...\n",
       "46560    202621       10773                         at times , and lots of fun\n",
       "55212    211273       11239                        to two completely different\n",
       "42556    198617       10561  just another kung-fu sci-fi movie with silly a...\n",
       "60386    216447       11532                         makes up for in compassion"
      ]
     },
     "execution_count": 65,
     "metadata": {},
     "output_type": "execute_result"
    }
   ],
   "source": [
    "test_df.sample(5)"
   ]
  },
  {
   "cell_type": "code",
   "execution_count": 66,
   "metadata": {
    "colab": {
     "base_uri": "https://localhost:8080/"
    },
    "executionInfo": {
     "elapsed": 33,
     "status": "ok",
     "timestamp": 1668785518624,
     "user": {
      "displayName": "Sanket Patel",
      "userId": "04819273699461657041"
     },
     "user_tz": -330
    },
    "id": "jz8W9Nnce31g",
    "outputId": "9205e164-3213-44b3-c52b-c9063ec72c6d"
   },
   "outputs": [
    {
     "data": {
      "text/plain": [
       "<66292x4000 sparse matrix of type '<class 'numpy.float64'>'\n",
       "\twith 197760 stored elements in Compressed Sparse Row format>"
      ]
     },
     "execution_count": 66,
     "metadata": {},
     "output_type": "execute_result"
    }
   ],
   "source": [
    "test_inputs"
   ]
  },
  {
   "cell_type": "code",
   "execution_count": 67,
   "metadata": {
    "executionInfo": {
     "elapsed": 30,
     "status": "ok",
     "timestamp": 1668785518624,
     "user": {
      "displayName": "Sanket Patel",
      "userId": "04819273699461657041"
     },
     "user_tz": -330
    },
    "id": "RHfHJcBae4e3"
   },
   "outputs": [],
   "source": [
    "test_preds = model.predict(test_inputs)"
   ]
  },
  {
   "cell_type": "code",
   "execution_count": 68,
   "metadata": {
    "colab": {
     "base_uri": "https://localhost:8080/"
    },
    "executionInfo": {
     "elapsed": 30,
     "status": "ok",
     "timestamp": 1668785518624,
     "user": {
      "displayName": "Sanket Patel",
      "userId": "04819273699461657041"
     },
     "user_tz": -330
    },
    "id": "JZ1urPNme4bo",
    "outputId": "2281adc9-dfa2-4214-8ba2-a66d4fbd3f6a"
   },
   "outputs": [
    {
     "data": {
      "text/plain": [
       "array([3, 3, 2, ..., 2, 2, 1])"
      ]
     },
     "execution_count": 68,
     "metadata": {},
     "output_type": "execute_result"
    }
   ],
   "source": [
    "test_preds"
   ]
  },
  {
   "cell_type": "code",
   "execution_count": 69,
   "metadata": {
    "executionInfo": {
     "elapsed": 28,
     "status": "ok",
     "timestamp": 1668785518625,
     "user": {
      "displayName": "Sanket Patel",
      "userId": "04819273699461657041"
     },
     "user_tz": -330
    },
    "id": "MHUHTmYxEHcV"
   },
   "outputs": [],
   "source": [
    "sub_df.Sentiment = test_preds"
   ]
  },
  {
   "cell_type": "code",
   "execution_count": 70,
   "metadata": {
    "colab": {
     "base_uri": "https://localhost:8080/"
    },
    "executionInfo": {
     "elapsed": 28,
     "status": "ok",
     "timestamp": 1668785518625,
     "user": {
      "displayName": "Sanket Patel",
      "userId": "04819273699461657041"
     },
     "user_tz": -330
    },
    "id": "HOTojNcWEHZ7",
    "outputId": "7789435b-79b9-45d2-86bd-bd26bfe12127"
   },
   "outputs": [
    {
     "data": {
      "text/plain": [
       "0        3\n",
       "1        3\n",
       "2        2\n",
       "3        3\n",
       "4        2\n",
       "        ..\n",
       "66287    1\n",
       "66288    1\n",
       "66289    2\n",
       "66290    2\n",
       "66291    1\n",
       "Name: Sentiment, Length: 66292, dtype: int64"
      ]
     },
     "execution_count": 70,
     "metadata": {},
     "output_type": "execute_result"
    }
   ],
   "source": [
    "sub_df.Sentiment"
   ]
  },
  {
   "cell_type": "code",
   "execution_count": 71,
   "metadata": {
    "executionInfo": {
     "elapsed": 1148,
     "status": "ok",
     "timestamp": 1668785519747,
     "user": {
      "displayName": "Sanket Patel",
      "userId": "04819273699461657041"
     },
     "user_tz": -330
    },
    "id": "YVKbkMLg9clQ"
   },
   "outputs": [],
   "source": [
    "sub_df.to_csv('/content/sentiment-analysis-movie-review/submission.csv',index=None)"
   ]
  },
  {
   "cell_type": "code",
   "execution_count": 72,
   "metadata": {
    "colab": {
     "base_uri": "https://localhost:8080/"
    },
    "executionInfo": {
     "elapsed": 8,
     "status": "ok",
     "timestamp": 1668785522650,
     "user": {
      "displayName": "Sanket Patel",
      "userId": "04819273699461657041"
     },
     "user_tz": -330
    },
    "id": "NbILiyDP9d3P",
    "outputId": "3f1d9d31-3f01-43a0-de39-dfb0a27d514a"
   },
   "outputs": [
    {
     "name": "stdout",
     "output_type": "stream",
     "text": [
      "PhraseId,Sentiment\n",
      "156061,3\n",
      "156062,3\n",
      "156063,2\n",
      "156064,3\n",
      "156065,2\n",
      "156066,3\n",
      "156067,3\n",
      "156068,2\n",
      "156069,3\n"
     ]
    }
   ],
   "source": [
    "!head '/content/sentiment-analysis-movie-review/submission.csv'"
   ]
  },
  {
   "cell_type": "markdown",
   "metadata": {
    "id": "8kne2rQq8qL0"
   },
   "source": [
    "## Train & Finetune Different ML Models\n",
    "\n",
    "Train & finetune at least 2 other types of models\n",
    "\n",
    "Models to try:\n",
    "- Decision Trees\n",
    "- Random Forests\n",
    "- Gradient Boosting\n",
    "- Naive Bayes\n",
    "- SVM\n",
    "\n",
    "Optional: \n",
    "* Use PCA for dimensionality reduction\n",
    "* Compare classification vs regression models\n",
    "\n",
    "\n",
    "Tips: \n",
    "\n",
    "- If using a regression model, make sure to round predictions to integer and clip to the range `[1,5]`\n",
    "- Track your progress in a copy of [this experiment tracking spreadsheet](https://docs.google.com/spreadsheets/d/1X-tifxAOAYeIA2J32hBGP5B0MPnZy_o-zOz1NbS-1Ig/edit?usp=sharing)\n"
   ]
  },
  {
   "cell_type": "markdown",
   "metadata": {
    "id": "_U4rWPfuag1a"
   },
   "source": [
    "### Model 1"
   ]
  },
  {
   "cell_type": "code",
   "execution_count": 73,
   "metadata": {
    "executionInfo": {
     "elapsed": 2,
     "status": "ok",
     "timestamp": 1668785524815,
     "user": {
      "displayName": "Sanket Patel",
      "userId": "04819273699461657041"
     },
     "user_tz": -330
    },
    "id": "kN-yZN12e4Yz"
   },
   "outputs": [],
   "source": [
    "# Naive Bayes\n",
    "from sklearn.naive_bayes import MultinomialNB"
   ]
  },
  {
   "cell_type": "code",
   "execution_count": 74,
   "metadata": {
    "executionInfo": {
     "elapsed": 3,
     "status": "ok",
     "timestamp": 1668785524816,
     "user": {
      "displayName": "Sanket Patel",
      "userId": "04819273699461657041"
     },
     "user_tz": -330
    },
    "id": "X8f6t6wge4WV"
   },
   "outputs": [],
   "source": [
    "model_nb = MultinomialNB()"
   ]
  },
  {
   "cell_type": "code",
   "execution_count": 75,
   "metadata": {
    "colab": {
     "base_uri": "https://localhost:8080/"
    },
    "executionInfo": {
     "elapsed": 3,
     "status": "ok",
     "timestamp": 1668785525249,
     "user": {
      "displayName": "Sanket Patel",
      "userId": "04819273699461657041"
     },
     "user_tz": -330
    },
    "id": "lig2PXUCAfqF",
    "outputId": "b27c0358-6c2c-4a3c-cf1a-0fff260126f9"
   },
   "outputs": [
    {
     "data": {
      "text/plain": [
       "MultinomialNB()"
      ]
     },
     "execution_count": 75,
     "metadata": {},
     "output_type": "execute_result"
    }
   ],
   "source": [
    "model_nb.fit(train_inputs,train_targets)"
   ]
  },
  {
   "cell_type": "code",
   "execution_count": 76,
   "metadata": {
    "colab": {
     "base_uri": "https://localhost:8080/"
    },
    "executionInfo": {
     "elapsed": 10,
     "status": "ok",
     "timestamp": 1668785526585,
     "user": {
      "displayName": "Sanket Patel",
      "userId": "04819273699461657041"
     },
     "user_tz": -330
    },
    "id": "Wd5xZGtDArKu",
    "outputId": "478f7784-c7ed-453b-d568-4181c3bec21d"
   },
   "outputs": [
    {
     "data": {
      "text/plain": [
       "0.6019727272727273"
      ]
     },
     "execution_count": 76,
     "metadata": {},
     "output_type": "execute_result"
    }
   ],
   "source": [
    "accuracy_score(train_targets,model_nb.predict(train_inputs))"
   ]
  },
  {
   "cell_type": "markdown",
   "metadata": {
    "executionInfo": {
     "elapsed": 2050,
     "status": "ok",
     "timestamp": 1668511836179,
     "user": {
      "displayName": "Aakash N S",
      "userId": "03254185060287524023"
     },
     "user_tz": -330
    },
    "id": "ewoiYmCyAmuZ",
    "outputId": "7a98660c-5c53-4177-9646-377081671071"
   },
   "source": [
    "### Model 2"
   ]
  },
  {
   "cell_type": "code",
   "execution_count": 77,
   "metadata": {
    "executionInfo": {
     "elapsed": 479,
     "status": "ok",
     "timestamp": 1668785527059,
     "user": {
      "displayName": "Sanket Patel",
      "userId": "04819273699461657041"
     },
     "user_tz": -330
    },
    "id": "uf62z77jCjPc"
   },
   "outputs": [],
   "source": [
    "from sklearn.ensemble import RandomForestClassifier"
   ]
  },
  {
   "cell_type": "code",
   "execution_count": 78,
   "metadata": {
    "executionInfo": {
     "elapsed": 6,
     "status": "ok",
     "timestamp": 1668785527060,
     "user": {
      "displayName": "Sanket Patel",
      "userId": "04819273699461657041"
     },
     "user_tz": -330
    },
    "id": "ydtYT7KwFMhA"
   },
   "outputs": [],
   "source": [
    "model_rf = RandomForestClassifier()"
   ]
  },
  {
   "cell_type": "code",
   "execution_count": 79,
   "metadata": {
    "colab": {
     "base_uri": "https://localhost:8080/"
    },
    "executionInfo": {
     "elapsed": 775581,
     "status": "ok",
     "timestamp": 1668786302636,
     "user": {
      "displayName": "Sanket Patel",
      "userId": "04819273699461657041"
     },
     "user_tz": -330
    },
    "id": "3IJR4kENFMei",
    "outputId": "fff0612c-1ca5-4cd7-fbdd-896ac3db02c2"
   },
   "outputs": [
    {
     "data": {
      "text/plain": [
       "RandomForestClassifier()"
      ]
     },
     "execution_count": 79,
     "metadata": {},
     "output_type": "execute_result"
    }
   ],
   "source": [
    "model_rf.fit(train_inputs,train_targets)"
   ]
  },
  {
   "cell_type": "code",
   "execution_count": 80,
   "metadata": {
    "colab": {
     "base_uri": "https://localhost:8080/"
    },
    "executionInfo": {
     "elapsed": 41909,
     "status": "ok",
     "timestamp": 1668786344541,
     "user": {
      "displayName": "Sanket Patel",
      "userId": "04819273699461657041"
     },
     "user_tz": -330
    },
    "id": "-NR16l1DFMbR",
    "outputId": "f5e6ff11-454b-4de2-be70-782eab0f0562"
   },
   "outputs": [
    {
     "data": {
      "text/plain": [
       "0.8066818181818182"
      ]
     },
     "execution_count": 80,
     "metadata": {},
     "output_type": "execute_result"
    }
   ],
   "source": [
    "accuracy_score(train_targets,model_rf.predict(train_inputs))"
   ]
  },
  {
   "cell_type": "code",
   "execution_count": 81,
   "metadata": {
    "executionInfo": {
     "elapsed": 26588,
     "status": "ok",
     "timestamp": 1668786371116,
     "user": {
      "displayName": "Sanket Patel",
      "userId": "04819273699461657041"
     },
     "user_tz": -330
    },
    "id": "YSTNjejcY95v"
   },
   "outputs": [],
   "source": [
    "test_preds = model_rf.predict(test_inputs)"
   ]
  },
  {
   "cell_type": "code",
   "execution_count": 82,
   "metadata": {
    "colab": {
     "base_uri": "https://localhost:8080/"
    },
    "executionInfo": {
     "elapsed": 23,
     "status": "ok",
     "timestamp": 1668786371117,
     "user": {
      "displayName": "Sanket Patel",
      "userId": "04819273699461657041"
     },
     "user_tz": -330
    },
    "id": "tZGu3lz-Y95v",
    "outputId": "9dc35251-fd18-425d-8314-dce9087ea361"
   },
   "outputs": [
    {
     "data": {
      "text/plain": [
       "array([1, 1, 2, ..., 2, 2, 1])"
      ]
     },
     "execution_count": 82,
     "metadata": {},
     "output_type": "execute_result"
    }
   ],
   "source": [
    "test_preds"
   ]
  },
  {
   "cell_type": "code",
   "execution_count": 83,
   "metadata": {
    "executionInfo": {
     "elapsed": 21,
     "status": "ok",
     "timestamp": 1668786371118,
     "user": {
      "displayName": "Sanket Patel",
      "userId": "04819273699461657041"
     },
     "user_tz": -330
    },
    "id": "-O4Uzap7Y95w"
   },
   "outputs": [],
   "source": [
    "sub_df.Sentiment = test_preds"
   ]
  },
  {
   "cell_type": "code",
   "execution_count": 84,
   "metadata": {
    "colab": {
     "base_uri": "https://localhost:8080/"
    },
    "executionInfo": {
     "elapsed": 21,
     "status": "ok",
     "timestamp": 1668786371118,
     "user": {
      "displayName": "Sanket Patel",
      "userId": "04819273699461657041"
     },
     "user_tz": -330
    },
    "id": "OKDKTnznY95w",
    "outputId": "650e6ba8-8b86-46b5-dd23-7db57510e766"
   },
   "outputs": [
    {
     "data": {
      "text/plain": [
       "0        1\n",
       "1        1\n",
       "2        2\n",
       "3        1\n",
       "4        3\n",
       "        ..\n",
       "66287    1\n",
       "66288    1\n",
       "66289    2\n",
       "66290    2\n",
       "66291    1\n",
       "Name: Sentiment, Length: 66292, dtype: int64"
      ]
     },
     "execution_count": 84,
     "metadata": {},
     "output_type": "execute_result"
    }
   ],
   "source": [
    "sub_df.Sentiment"
   ]
  },
  {
   "cell_type": "code",
   "execution_count": 87,
   "metadata": {
    "executionInfo": {
     "elapsed": 387,
     "status": "ok",
     "timestamp": 1668786541873,
     "user": {
      "displayName": "Sanket Patel",
      "userId": "04819273699461657041"
     },
     "user_tz": -330
    },
    "id": "uRxmrU5oY95w"
   },
   "outputs": [],
   "source": [
    "sub_df.to_csv('/content/sentiment-analysis-movie-review/submission.csv',index=None)"
   ]
  },
  {
   "cell_type": "markdown",
   "metadata": {
    "executionInfo": {
     "elapsed": 9,
     "status": "ok",
     "timestamp": 1668512360083,
     "user": {
      "displayName": "Aakash N S",
      "userId": "03254185060287524023"
     },
     "user_tz": -330
    },
    "id": "S8WnmO8SDopQ",
    "outputId": "ad27a3ba-b6e9-4675-9b20-0e338f3fcf8d"
   },
   "source": [
    "### Model 3"
   ]
  },
  {
   "cell_type": "code",
   "execution_count": null,
   "metadata": {
    "id": "FuRhZQJqDomm"
   },
   "outputs": [],
   "source": []
  },
  {
   "cell_type": "code",
   "execution_count": null,
   "metadata": {
    "id": "1FyiLUvLDojw"
   },
   "outputs": [],
   "source": []
  },
  {
   "cell_type": "code",
   "execution_count": null,
   "metadata": {
    "id": "uGvDA1JJFkjF"
   },
   "outputs": [],
   "source": []
  },
  {
   "cell_type": "code",
   "execution_count": null,
   "metadata": {
    "id": "l90XTWj6DohY"
   },
   "outputs": [],
   "source": []
  },
  {
   "cell_type": "markdown",
   "metadata": {
    "id": "nyg1j4AEag1c"
   },
   "source": [
    "Best Model:\n",
    "\n",
    "??? \n",
    "\n",
    "(include Kaggle score screenshot)"
   ]
  },
  {
   "cell_type": "markdown",
   "metadata": {
    "id": "zhVGx0VZe6Gg"
   },
   "source": [
    "## Submission and Future Work\n",
    "\n",
    "\n",
    "How to make a submission:\n",
    "\n",
    "- Add documentation and explanations\n",
    "- Clean up any stray code/comments\n",
    "- Include a screenshot of your best score\n",
    "- Make a submission on the assignment page\n",
    "- Review evaluation criteria carefully\n",
    "\n",
    "\n",
    "Future work:\n",
    "- Try more machine learning models\n",
    "- Try configuring CountVectorizer differently\n",
    "- Try approaches other than bag of words\n"
   ]
  },
  {
   "cell_type": "code",
   "execution_count": null,
   "metadata": {
    "id": "baylfwTmag1c"
   },
   "outputs": [],
   "source": []
  }
 ],
 "metadata": {
  "accelerator": "GPU",
  "colab": {
   "provenance": []
  },
  "gpuClass": "standard",
  "language_info": {
   "codemirror_mode": {
    "name": "ipython",
    "version": 3
   },
   "file_extension": ".py",
   "mimetype": "text/x-python",
   "name": "python",
   "nbconvert_exporter": "python",
   "pygments_lexer": "ipython3",
   "version": "3.9.6"
  }
 },
 "nbformat": 4,
 "nbformat_minor": 0
}